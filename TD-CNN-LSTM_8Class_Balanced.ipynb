{
  "nbformat": 4,
  "nbformat_minor": 0,
  "metadata": {
    "colab": {
      "provenance": [],
      "machine_shape": "hm"
    },
    "kernelspec": {
      "name": "python3",
      "display_name": "Python 3"
    },
    "language_info": {
      "name": "python"
    },
    "accelerator": "GPU",
    "gpuClass": "premium"
  },
  "cells": [
    {
      "cell_type": "markdown",
      "source": [
        "### 8 Class Classification using TD-CNN-LSTM with a Balanced Dataset\n",
        "\n",
        "In this notebook, 8 class classification of the surgical video clips is implemented with a TD-CNN-LSTM model. 700 video clips are taken for each class. The results will be compared with results from training the model with an unbalanced dataset to investigate the impact of imbalance of data on model performance.\n"
      ],
      "metadata": {
        "id": "LTmZJNJqVusO"
      }
    },
    {
      "cell_type": "code",
      "source": [
        "from google.colab import drive"
      ],
      "metadata": {
        "id": "Dc_jiNvLupG5"
      },
      "execution_count": null,
      "outputs": []
    },
    {
      "cell_type": "code",
      "source": [
        "#mount google drive\n",
        "drive.mount('/content/drive')"
      ],
      "metadata": {
        "colab": {
          "base_uri": "https://localhost:8080/"
        },
        "id": "4Eive1GEVcRj",
        "outputId": "1fb98acc-3750-4b30-af7a-3573f7916ea2"
      },
      "execution_count": null,
      "outputs": [
        {
          "output_type": "stream",
          "name": "stdout",
          "text": [
            "Mounted at /content/drive\n"
          ]
        }
      ]
    },
    {
      "cell_type": "code",
      "source": [
        "import numpy as np\n",
        "import cv2\n",
        "\n",
        "#functions to read the video clips\n",
        "class Videoto3D:\n",
        "\n",
        "    def __init__(self, width, height, depth):\n",
        "        self.width = width\n",
        "        self.height = height\n",
        "        self.depth = depth\n",
        "\n",
        "    def video3d(self, filename, color=False, skip=True):\n",
        "        \n",
        "        cap = cv2.VideoCapture(filename)\n",
        "\n",
        "        nframe = cap.get(cv2.CAP_PROP_FRAME_COUNT)\n",
        "\n",
        "        if skip:\n",
        "            frames = [x * nframe / self.depth for x in range(self.depth)]\n",
        "        else:\n",
        "            frames = [x for x in range(self.depth)]\n",
        "        \n",
        "        framearray = []\n",
        "\n",
        "        for i in range(self.depth):\n",
        "            cap.set(cv2.CAP_PROP_POS_FRAMES, frames[i])\n",
        "            ret, frame = cap.read()\n",
        "            try:\n",
        "              frame = cv2.resize(frame, (self.height, self.width))\n",
        "            except:\n",
        "              print(\"break here\")\n",
        "              break\n",
        "        \n",
        "            if color:\n",
        "                framearray.append(frame)\n",
        "            else:\n",
        "                framearray.append(cv2.cvtColor(frame, cv2.COLOR_BGR2GRAY))\n",
        "\n",
        "        cap.release()\n",
        "        \n",
        "        return np.array(framearray)"
      ],
      "metadata": {
        "id": "mtnOa9S3QxQB"
      },
      "execution_count": null,
      "outputs": []
    },
    {
      "cell_type": "code",
      "source": [
        "import argparse\n",
        "import os\n",
        "\n",
        "import matplotlib\n",
        "matplotlib.use('AGG')\n",
        "\n",
        "import matplotlib.pyplot as plt\n",
        "import numpy as np\n",
        "\n",
        "from keras.datasets import cifar10\n",
        "from keras.layers import (Activation, Conv2D, Dense, Dropout, Flatten,\n",
        "                          MaxPool2D, Input, ZeroPadding2D,TimeDistributed,LSTM)\n",
        "import keras\n",
        "from keras.layers import ELU, PReLU, LeakyReLU, Input\n",
        "from keras.losses import categorical_crossentropy\n",
        "from keras.models import Sequential\n",
        "from keras.optimizers import Adam\n",
        "from keras.utils import np_utils\n",
        "from keras.utils.vis_utils import plot_model\n",
        "from sklearn import metrics\n",
        "from sklearn.model_selection import train_test_split\n",
        "from sklearn.metrics import classification_report,confusion_matrix\n",
        "from sklearn.preprocessing import MinMaxScaler\n",
        "\n",
        "from tqdm import tqdm\n",
        "\n",
        "from keras.callbacks import ModelCheckpoint\n",
        "\n",
        "import tensorflow as tf\n",
        "from keras.backend import set_session\n",
        "\n",
        "#function to load videos and labels from the given path to directory\n",
        "def loaddata(video_dir, vid3d, nclass, color=False, skip=True):\n",
        "    \n",
        "    files = os.listdir(video_dir)  \n",
        "    X = []\n",
        "    labels = []\n",
        "    pbar = tqdm(total=len(files))\n",
        "    \n",
        "    for filename in files:\n",
        "\n",
        "        pbar.update(1)\n",
        "\n",
        "        name = os.path.join(video_dir, filename)\n",
        "        for v_files in os.listdir(name):\n",
        "        \n",
        "            v_file_path = os.path.join(name, v_files)\n",
        "            \n",
        "            X.append(vid3d.video3d(v_file_path, color=color, skip=skip))\n",
        "\n",
        "            labels.append(int(name[-1]))\n",
        "\n",
        "    pbar.close()\n",
        "\n",
        "    if color:\n",
        "        return np.array(X), labels\n",
        "    else:\n",
        "        return np.array(X), labels"
      ],
      "metadata": {
        "id": "Va8WnKf2Z-AE"
      },
      "execution_count": null,
      "outputs": []
    },
    {
      "cell_type": "markdown",
      "source": [
        "The videos are loaded and resized to 112x112x3. The parameters for the model are set and the inputs along with the labels are reshaped."
      ],
      "metadata": {
        "id": "pjAq9laZWeBX"
      }
    },
    {
      "cell_type": "code",
      "source": [
        "#parameters for dataset\n",
        "depth = 16\n",
        "img_rows, img_cols, frames = 112, 112, depth\n",
        "channel = 3 \n",
        "batch = 16\n",
        "epoch = 30\n",
        "videos = '/content/drive/MyDrive/BDD/clipped_videos'\n",
        "color = True\n",
        "skip = False\n",
        "nclass = 8\n",
        "\n",
        "vid3d = Videoto3D(img_rows, img_cols, frames)\n",
        "nb_classes = 8\n",
        "#return data in x and labels in y\n",
        "x, y = loaddata(videos, vid3d, nclass, color, skip)\n",
        "\n",
        "print(x.shape)\n",
        "\n",
        "#reshape x and convert labels to categorical for the model\n",
        "X = x.reshape((x.shape[0], frames, img_cols, img_rows, channel))\n",
        "Y = np_utils.to_categorical(y,num_classes=nb_classes)\n",
        "\n",
        "X = X.astype('float32')\n",
        "    \n",
        "print('\\nX_shape:{}\\nY_shape:{}'.format(X.shape, Y.shape))"
      ],
      "metadata": {
        "id": "s8PgpEHoizJ3"
      },
      "execution_count": null,
      "outputs": []
    },
    {
      "cell_type": "markdown",
      "source": [
        "The proposed TD-CNN-LSTM model is defined below."
      ],
      "metadata": {
        "id": "F2XFmYx2Wx1c"
      }
    },
    {
      "cell_type": "code",
      "source": [
        "#define the model\n",
        "\n",
        "cmodel = Sequential()\n",
        "cmodel.add(TimeDistributed(Conv2D(32, (3, 3), strides=(2, 2), activation='relu', padding='same'), input_shape=(16, 112, 112, 3)))\n",
        "cmodel.add(TimeDistributed(Conv2D(32, (3,3), kernel_initializer=\"he_normal\", activation='relu')))\n",
        "cmodel.add(TimeDistributed(MaxPool2D((2, 2), strides=(2, 2))))\n",
        "\n",
        "cmodel.add(TimeDistributed(Conv2D(64, (3,3), padding='same', activation='relu')))\n",
        "cmodel.add(TimeDistributed(Conv2D(64, (3,3), padding='same', activation='relu')))\n",
        "cmodel.add(TimeDistributed(MaxPool2D((2, 2), strides=(2, 2))))\n",
        "\n",
        "cmodel.add(TimeDistributed(Conv2D(128, (3,3), padding='same', activation='relu')))\n",
        "cmodel.add(TimeDistributed(Conv2D(128, (3,3), padding='same', activation='relu')))\n",
        "cmodel.add(TimeDistributed(MaxPool2D((2, 2), strides=(2, 2))))\n",
        "\n",
        "cmodel.add(TimeDistributed(Conv2D(256, (3,3), padding='same', activation='relu')))\n",
        "cmodel.add(TimeDistributed(Conv2D(256, (3,3), padding='same', activation='relu')))\n",
        "cmodel.add(TimeDistributed(MaxPool2D((2, 2), strides=(2, 2))))\n",
        "\n",
        "cmodel.add(TimeDistributed(Conv2D(512, (3,3), padding='same', activation='relu')))\n",
        "cmodel.add(TimeDistributed(Conv2D(512, (3,3), padding='same', activation='relu')))\n",
        "cmodel.add(TimeDistributed(MaxPool2D((2, 2), strides=(2, 2))))\n",
        "\n",
        "cmodel.add(TimeDistributed(Flatten()))\n",
        "\n",
        "cmodel.add(Dropout(0.5))\n",
        "cmodel.add(LSTM(512, return_sequences=False, dropout=0.5))\n",
        "cmodel.add(Dense(8, activation='softmax'))\n",
        "cmodel.summary()\n",
        "\n",
        "#define optimizer and compile the model\n",
        "optimizer = keras.optimizers.Adam(learning_rate=0.0001)\n",
        "cmodel.compile(optimizer,loss=categorical_crossentropy,metrics=['accuracy'])\n",
        "\n",
        "print(cmodel.summary())"
      ],
      "metadata": {
        "id": "dHTPPxL-RPsg",
        "colab": {
          "base_uri": "https://localhost:8080/"
        },
        "outputId": "a121cf96-c9c8-476a-8cc9-05ed379a20ca"
      },
      "execution_count": null,
      "outputs": [
        {
          "output_type": "stream",
          "name": "stdout",
          "text": [
            "Model: \"sequential\"\n",
            "_________________________________________________________________\n",
            " Layer (type)                Output Shape              Param #   \n",
            "=================================================================\n",
            " time_distributed (TimeDistr  (None, 16, 56, 56, 32)   896       \n",
            " ibuted)                                                         \n",
            "                                                                 \n",
            " time_distributed_1 (TimeDis  (None, 16, 54, 54, 32)   9248      \n",
            " tributed)                                                       \n",
            "                                                                 \n",
            " time_distributed_2 (TimeDis  (None, 16, 27, 27, 32)   0         \n",
            " tributed)                                                       \n",
            "                                                                 \n",
            " time_distributed_3 (TimeDis  (None, 16, 27, 27, 64)   18496     \n",
            " tributed)                                                       \n",
            "                                                                 \n",
            " time_distributed_4 (TimeDis  (None, 16, 27, 27, 64)   36928     \n",
            " tributed)                                                       \n",
            "                                                                 \n",
            " time_distributed_5 (TimeDis  (None, 16, 13, 13, 64)   0         \n",
            " tributed)                                                       \n",
            "                                                                 \n",
            " time_distributed_6 (TimeDis  (None, 16, 13, 13, 128)  73856     \n",
            " tributed)                                                       \n",
            "                                                                 \n",
            " time_distributed_7 (TimeDis  (None, 16, 13, 13, 128)  147584    \n",
            " tributed)                                                       \n",
            "                                                                 \n",
            " time_distributed_8 (TimeDis  (None, 16, 6, 6, 128)    0         \n",
            " tributed)                                                       \n",
            "                                                                 \n",
            " time_distributed_9 (TimeDis  (None, 16, 6, 6, 256)    295168    \n",
            " tributed)                                                       \n",
            "                                                                 \n",
            " time_distributed_10 (TimeDi  (None, 16, 6, 6, 256)    590080    \n",
            " stributed)                                                      \n",
            "                                                                 \n",
            " time_distributed_11 (TimeDi  (None, 16, 3, 3, 256)    0         \n",
            " stributed)                                                      \n",
            "                                                                 \n",
            " time_distributed_12 (TimeDi  (None, 16, 3, 3, 512)    1180160   \n",
            " stributed)                                                      \n",
            "                                                                 \n",
            " time_distributed_13 (TimeDi  (None, 16, 3, 3, 512)    2359808   \n",
            " stributed)                                                      \n",
            "                                                                 \n",
            " time_distributed_14 (TimeDi  (None, 16, 1, 1, 512)    0         \n",
            " stributed)                                                      \n",
            "                                                                 \n",
            " time_distributed_15 (TimeDi  (None, 16, 512)          0         \n",
            " stributed)                                                      \n",
            "                                                                 \n",
            " dropout (Dropout)           (None, 16, 512)           0         \n",
            "                                                                 \n",
            " lstm (LSTM)                 (None, 512)               2099200   \n",
            "                                                                 \n",
            " dense (Dense)               (None, 4)                 2052      \n",
            "                                                                 \n",
            "=================================================================\n",
            "Total params: 6,813,476\n",
            "Trainable params: 6,813,476\n",
            "Non-trainable params: 0\n",
            "_________________________________________________________________\n",
            "Model: \"sequential\"\n",
            "_________________________________________________________________\n",
            " Layer (type)                Output Shape              Param #   \n",
            "=================================================================\n",
            " time_distributed (TimeDistr  (None, 16, 56, 56, 32)   896       \n",
            " ibuted)                                                         \n",
            "                                                                 \n",
            " time_distributed_1 (TimeDis  (None, 16, 54, 54, 32)   9248      \n",
            " tributed)                                                       \n",
            "                                                                 \n",
            " time_distributed_2 (TimeDis  (None, 16, 27, 27, 32)   0         \n",
            " tributed)                                                       \n",
            "                                                                 \n",
            " time_distributed_3 (TimeDis  (None, 16, 27, 27, 64)   18496     \n",
            " tributed)                                                       \n",
            "                                                                 \n",
            " time_distributed_4 (TimeDis  (None, 16, 27, 27, 64)   36928     \n",
            " tributed)                                                       \n",
            "                                                                 \n",
            " time_distributed_5 (TimeDis  (None, 16, 13, 13, 64)   0         \n",
            " tributed)                                                       \n",
            "                                                                 \n",
            " time_distributed_6 (TimeDis  (None, 16, 13, 13, 128)  73856     \n",
            " tributed)                                                       \n",
            "                                                                 \n",
            " time_distributed_7 (TimeDis  (None, 16, 13, 13, 128)  147584    \n",
            " tributed)                                                       \n",
            "                                                                 \n",
            " time_distributed_8 (TimeDis  (None, 16, 6, 6, 128)    0         \n",
            " tributed)                                                       \n",
            "                                                                 \n",
            " time_distributed_9 (TimeDis  (None, 16, 6, 6, 256)    295168    \n",
            " tributed)                                                       \n",
            "                                                                 \n",
            " time_distributed_10 (TimeDi  (None, 16, 6, 6, 256)    590080    \n",
            " stributed)                                                      \n",
            "                                                                 \n",
            " time_distributed_11 (TimeDi  (None, 16, 3, 3, 256)    0         \n",
            " stributed)                                                      \n",
            "                                                                 \n",
            " time_distributed_12 (TimeDi  (None, 16, 3, 3, 512)    1180160   \n",
            " stributed)                                                      \n",
            "                                                                 \n",
            " time_distributed_13 (TimeDi  (None, 16, 3, 3, 512)    2359808   \n",
            " stributed)                                                      \n",
            "                                                                 \n",
            " time_distributed_14 (TimeDi  (None, 16, 1, 1, 512)    0         \n",
            " stributed)                                                      \n",
            "                                                                 \n",
            " time_distributed_15 (TimeDi  (None, 16, 512)          0         \n",
            " stributed)                                                      \n",
            "                                                                 \n",
            " dropout (Dropout)           (None, 16, 512)           0         \n",
            "                                                                 \n",
            " lstm (LSTM)                 (None, 512)               2099200   \n",
            "                                                                 \n",
            " dense (Dense)               (None, 4)                 2052      \n",
            "                                                                 \n",
            "=================================================================\n",
            "Total params: 6,813,476\n",
            "Trainable params: 6,813,476\n",
            "Non-trainable params: 0\n",
            "_________________________________________________________________\n",
            "None\n"
          ]
        }
      ]
    },
    {
      "cell_type": "markdown",
      "source": [
        "Using StratifiedKFold, the model is repeatedly evaluated and the metrics are displayed."
      ],
      "metadata": {
        "id": "l6VdoXvLW3M8"
      }
    },
    {
      "cell_type": "code",
      "source": [
        "from tqdm import tqdm\n",
        "from sklearn.model_selection import StratifiedKFold\n",
        "\n",
        "#perform k-fold cross validation\n",
        "scores, histories = list(), list()\n",
        "Acc = []\n",
        "preds = []\n",
        "labs = []\n",
        "predScore = []\n",
        "kfold = StratifiedKFold(5, shuffle=True, random_state=1)\n",
        "# enumerate splits\n",
        "k = 0\n",
        "s = 0\n",
        "e = 1120\n",
        "fold = 0\n",
        "scaler = MinMaxScaler()\n",
        "\n",
        "for train_ix, test_ix in tqdm(kfold.split(X,np.argmax(Y, axis=1))):\n",
        "    print('kfold {}'.format(k+1)) \n",
        "    # select rows for train and test\n",
        "    trainX, trainY, testX, testY = X[train_ix], Y[train_ix], X[test_ix], Y[test_ix]\n",
        "\n",
        "    #scale imputs\n",
        "    scaler.fit(trainX)\n",
        "    trainX = scaler.transform(trainX)\n",
        "    testX = scaler.transform(testX)\n",
        "    \n",
        "    # fit model\n",
        "    history = cmodel.fit(trainX, trainY, batch_size=batch,\n",
        "                    epochs=30, verbose=1, shuffle=True)\n",
        "    \n",
        "    histories.append(history)\n",
        "    %matplotlib inline\n",
        "    plt.plot(history.history['accuracy'])\n",
        "    plt.title('Training Progress')\n",
        "    plt.ylabel('accuracy')\n",
        "    plt.xlabel('epoch')\n",
        "    plt.plot(history.history['loss'])\n",
        "    plt.ylabel('accuracy')\n",
        "    plt.xlabel('epoch')\n",
        "    plt.legend(['accuracy','loss'], loc='upper right')\n",
        "    plt.show()\n",
        "    # evaluate model\n",
        "    _, acc = cmodel.evaluate(testX, testY, verbose=0)\n",
        "    # append scores\n",
        "    scores.append(acc)\n",
        "    #print('Accuracy: %.3f%% (+/- %.3f)' % (np.mean(scores)*100, np.std(scores)))\n",
        "    rounded_predictions = cmodel.predict(testX)\n",
        "    score = rounded_predictions\n",
        "    rounded_predictions = np.argmax(np.round(rounded_predictions),axis=1)\n",
        "    preds[s:e] = rounded_predictions\n",
        "    predScore[s:e] = score\n",
        "    labs[s:e] = testY\n",
        "    rounded_labels=np.argmax(testY, axis=1)\n",
        "    rounded_labels[1]\n",
        "    Acc.append(np.count_nonzero(rounded_labels==rounded_predictions)/len(rounded_predictions)*100)\n",
        "    s = s+1120\n",
        "    e = e+1120\n",
        "    k = k + 1"
      ],
      "metadata": {
        "colab": {
          "base_uri": "https://localhost:8080/",
          "height": 1000
        },
        "id": "as5z_h5bkOBg",
        "outputId": "55741336-9a74-4a71-9a51-bf708c176ab0"
      },
      "execution_count": null,
      "outputs": [
        {
          "output_type": "stream",
          "name": "stderr",
          "text": [
            "\r0it [00:00, ?it/s]"
          ]
        },
        {
          "output_type": "stream",
          "name": "stdout",
          "text": [
            "kfold 1\n",
            "Epoch 1/30\n",
            "200/200 [==============================] - 5s 23ms/step - loss: 0.0121 - accuracy: 0.9981\n",
            "Epoch 2/30\n",
            "200/200 [==============================] - 5s 23ms/step - loss: 0.0027 - accuracy: 0.9994\n",
            "Epoch 3/30\n",
            "200/200 [==============================] - 5s 23ms/step - loss: 3.0433e-04 - accuracy: 1.0000\n",
            "Epoch 4/30\n",
            "200/200 [==============================] - 4s 22ms/step - loss: 1.5008e-04 - accuracy: 1.0000\n",
            "Epoch 5/30\n",
            "200/200 [==============================] - 5s 23ms/step - loss: 8.1406e-05 - accuracy: 1.0000\n",
            "Epoch 6/30\n",
            "200/200 [==============================] - 5s 23ms/step - loss: 5.8409e-05 - accuracy: 1.0000\n",
            "Epoch 7/30\n",
            "200/200 [==============================] - 5s 23ms/step - loss: 5.1065e-05 - accuracy: 1.0000\n",
            "Epoch 8/30\n",
            "200/200 [==============================] - 5s 23ms/step - loss: 4.2191e-05 - accuracy: 1.0000\n",
            "Epoch 9/30\n",
            "200/200 [==============================] - 5s 23ms/step - loss: 3.1585e-05 - accuracy: 1.0000\n",
            "Epoch 10/30\n",
            "200/200 [==============================] - 5s 23ms/step - loss: 3.3125e-05 - accuracy: 1.0000\n",
            "Epoch 11/30\n",
            "200/200 [==============================] - 5s 23ms/step - loss: 2.2272e-05 - accuracy: 1.0000\n",
            "Epoch 12/30\n",
            "200/200 [==============================] - 5s 23ms/step - loss: 1.9331e-05 - accuracy: 1.0000\n",
            "Epoch 13/30\n",
            "200/200 [==============================] - 5s 23ms/step - loss: 1.6171e-05 - accuracy: 1.0000\n",
            "Epoch 14/30\n",
            "200/200 [==============================] - 5s 23ms/step - loss: 1.5438e-05 - accuracy: 1.0000\n",
            "Epoch 15/30\n",
            "200/200 [==============================] - 5s 23ms/step - loss: 1.4147e-05 - accuracy: 1.0000\n",
            "Epoch 16/30\n",
            "200/200 [==============================] - 5s 23ms/step - loss: 1.1942e-05 - accuracy: 1.0000\n",
            "Epoch 17/30\n",
            "200/200 [==============================] - 5s 23ms/step - loss: 1.1189e-05 - accuracy: 1.0000\n",
            "Epoch 18/30\n",
            "200/200 [==============================] - 4s 22ms/step - loss: 9.7656e-06 - accuracy: 1.0000\n",
            "Epoch 19/30\n",
            "200/200 [==============================] - 5s 23ms/step - loss: 9.7899e-06 - accuracy: 1.0000\n",
            "Epoch 20/30\n",
            "200/200 [==============================] - 5s 23ms/step - loss: 8.0392e-06 - accuracy: 1.0000\n",
            "Epoch 21/30\n",
            "200/200 [==============================] - 5s 23ms/step - loss: 7.4400e-06 - accuracy: 1.0000\n",
            "Epoch 22/30\n",
            "200/200 [==============================] - 5s 23ms/step - loss: 6.2986e-06 - accuracy: 1.0000\n",
            "Epoch 23/30\n",
            "200/200 [==============================] - 5s 23ms/step - loss: 4.8053e-06 - accuracy: 1.0000\n",
            "Epoch 24/30\n",
            "200/200 [==============================] - 5s 23ms/step - loss: 4.3825e-06 - accuracy: 1.0000\n",
            "Epoch 25/30\n",
            "200/200 [==============================] - 5s 23ms/step - loss: 4.7231e-06 - accuracy: 1.0000\n",
            "Epoch 26/30\n",
            "200/200 [==============================] - 5s 23ms/step - loss: 3.5327e-06 - accuracy: 1.0000\n",
            "Epoch 27/30\n",
            "200/200 [==============================] - 5s 23ms/step - loss: 3.0269e-06 - accuracy: 1.0000\n",
            "Epoch 28/30\n",
            "200/200 [==============================] - 5s 23ms/step - loss: 2.5428e-06 - accuracy: 1.0000\n",
            "Epoch 29/30\n",
            "200/200 [==============================] - 5s 23ms/step - loss: 2.2963e-06 - accuracy: 1.0000\n",
            "Epoch 30/30\n",
            "200/200 [==============================] - 5s 23ms/step - loss: 2.1364e-06 - accuracy: 1.0000\n"
          ]
        },
        {
          "output_type": "display_data",
          "data": {
            "text/plain": [
              "<Figure size 640x480 with 1 Axes>"
            ],
            "image/png": "[encoded data removed]"
          },
          "metadata": {}
        },
        {
          "output_type": "stream",
          "name": "stdout",
          "text": [
            "25/25 [==============================] - 1s 25ms/step\n"
          ]
        },
        {
          "output_type": "stream",
          "name": "stderr",
          "text": [
            "\r1it [02:29, 149.80s/it]"
          ]
        },
        {
          "output_type": "stream",
          "name": "stdout",
          "text": [
            "kfold 2\n",
            "Epoch 1/30\n",
            "200/200 [==============================] - 5s 23ms/step - loss: 0.3433 - accuracy: 0.8928\n",
            "Epoch 2/30\n",
            "200/200 [==============================] - 5s 23ms/step - loss: 0.0994 - accuracy: 0.9684\n",
            "Epoch 3/30\n",
            "200/200 [==============================] - 5s 23ms/step - loss: 0.0379 - accuracy: 0.9900\n",
            "Epoch 4/30\n",
            "200/200 [==============================] - 5s 23ms/step - loss: 0.0285 - accuracy: 0.9906\n",
            "Epoch 5/30\n",
            "200/200 [==============================] - 5s 23ms/step - loss: 0.0159 - accuracy: 0.9956\n",
            "Epoch 6/30\n",
            "200/200 [==============================] - 5s 23ms/step - loss: 0.0171 - accuracy: 0.9962\n",
            "Epoch 7/30\n",
            "200/200 [==============================] - 5s 23ms/step - loss: 0.0189 - accuracy: 0.9959\n",
            "Epoch 8/30\n",
            "200/200 [==============================] - 5s 23ms/step - loss: 0.0049 - accuracy: 0.9994\n",
            "Epoch 9/30\n",
            "200/200 [==============================] - 5s 23ms/step - loss: 0.0071 - accuracy: 0.9987\n",
            "Epoch 10/30\n",
            "200/200 [==============================] - 5s 23ms/step - loss: 0.0114 - accuracy: 0.9978\n",
            "Epoch 11/30\n",
            "200/200 [==============================] - 5s 23ms/step - loss: 0.0172 - accuracy: 0.9950\n",
            "Epoch 12/30\n",
            "200/200 [==============================] - 5s 23ms/step - loss: 0.0509 - accuracy: 0.9856\n",
            "Epoch 13/30\n",
            "200/200 [==============================] - 5s 23ms/step - loss: 0.0301 - accuracy: 0.9916\n",
            "Epoch 14/30\n",
            "200/200 [==============================] - 5s 23ms/step - loss: 0.0109 - accuracy: 0.9972\n",
            "Epoch 15/30\n",
            "200/200 [==============================] - 5s 23ms/step - loss: 0.0283 - accuracy: 0.9928\n",
            "Epoch 16/30\n",
            "200/200 [==============================] - 5s 23ms/step - loss: 0.0255 - accuracy: 0.9909\n",
            "Epoch 17/30\n",
            "200/200 [==============================] - 5s 23ms/step - loss: 0.0266 - accuracy: 0.9931\n",
            "Epoch 18/30\n",
            "200/200 [==============================] - 5s 23ms/step - loss: 0.0034 - accuracy: 0.9994\n",
            "Epoch 19/30\n",
            "200/200 [==============================] - 5s 23ms/step - loss: 0.0025 - accuracy: 0.9997\n",
            "Epoch 20/30\n",
            "200/200 [==============================] - 5s 23ms/step - loss: 2.7007e-04 - accuracy: 1.0000\n",
            "Epoch 21/30\n",
            "200/200 [==============================] - 5s 23ms/step - loss: 1.4514e-04 - accuracy: 1.0000\n",
            "Epoch 22/30\n",
            "200/200 [==============================] - 5s 23ms/step - loss: 9.2533e-05 - accuracy: 1.0000\n",
            "Epoch 23/30\n",
            "200/200 [==============================] - 5s 23ms/step - loss: 6.4369e-05 - accuracy: 1.0000\n",
            "Epoch 24/30\n",
            "200/200 [==============================] - 5s 23ms/step - loss: 5.0608e-05 - accuracy: 1.0000\n",
            "Epoch 25/30\n",
            "200/200 [==============================] - 5s 23ms/step - loss: 3.4810e-05 - accuracy: 1.0000\n",
            "Epoch 26/30\n",
            "200/200 [==============================] - 5s 23ms/step - loss: 2.8389e-05 - accuracy: 1.0000\n",
            "Epoch 27/30\n",
            "200/200 [==============================] - 5s 23ms/step - loss: 1.9847e-05 - accuracy: 1.0000\n",
            "Epoch 28/30\n",
            "200/200 [==============================] - 5s 23ms/step - loss: 1.6795e-05 - accuracy: 1.0000\n",
            "Epoch 29/30\n",
            "200/200 [==============================] - 5s 23ms/step - loss: 1.7166e-05 - accuracy: 1.0000\n",
            "Epoch 30/30\n",
            "200/200 [==============================] - 5s 23ms/step - loss: 1.2040e-05 - accuracy: 1.0000\n"
          ]
        },
        {
          "output_type": "display_data",
          "data": {
            "text/plain": [
              "<Figure size 640x480 with 1 Axes>"
            ],
            "image/png": "[encoded data removed]"
          },
          "metadata": {}
        },
        {
          "output_type": "stream",
          "name": "stdout",
          "text": [
            "25/25 [==============================] - 1s 25ms/step\n"
          ]
        },
        {
          "output_type": "stream",
          "name": "stderr",
          "text": [
            "\r2it [04:57, 148.85s/it]"
          ]
        },
        {
          "output_type": "stream",
          "name": "stdout",
          "text": [
            "kfold 3\n",
            "Epoch 1/30\n",
            "200/200 [==============================] - 5s 23ms/step - loss: 0.1749 - accuracy: 0.9497\n",
            "Epoch 2/30\n",
            "200/200 [==============================] - 4s 22ms/step - loss: 0.0270 - accuracy: 0.9906\n",
            "Epoch 3/30\n",
            "200/200 [==============================] - 5s 23ms/step - loss: 0.0120 - accuracy: 0.9962\n",
            "Epoch 4/30\n",
            "200/200 [==============================] - 5s 23ms/step - loss: 0.0113 - accuracy: 0.9978\n",
            "Epoch 5/30\n",
            "200/200 [==============================] - 5s 23ms/step - loss: 0.0015 - accuracy: 0.9997\n",
            "Epoch 6/30\n",
            "200/200 [==============================] - 5s 23ms/step - loss: 0.0019 - accuracy: 0.9994\n",
            "Epoch 7/30\n",
            "200/200 [==============================] - 4s 22ms/step - loss: 6.0328e-04 - accuracy: 1.0000\n",
            "Epoch 8/30\n",
            "200/200 [==============================] - 5s 23ms/step - loss: 2.1700e-04 - accuracy: 1.0000\n",
            "Epoch 9/30\n",
            "200/200 [==============================] - 5s 23ms/step - loss: 1.3082e-04 - accuracy: 1.0000\n",
            "Epoch 10/30\n",
            "200/200 [==============================] - 5s 23ms/step - loss: 1.1482e-04 - accuracy: 1.0000\n",
            "Epoch 11/30\n",
            "200/200 [==============================] - 5s 23ms/step - loss: 8.5511e-05 - accuracy: 1.0000\n",
            "Epoch 12/30\n",
            "200/200 [==============================] - 5s 23ms/step - loss: 5.0592e-05 - accuracy: 1.0000\n",
            "Epoch 13/30\n",
            "200/200 [==============================] - 4s 22ms/step - loss: 3.2397e-05 - accuracy: 1.0000\n",
            "Epoch 14/30\n",
            "200/200 [==============================] - 5s 23ms/step - loss: 2.5049e-05 - accuracy: 1.0000\n",
            "Epoch 15/30\n",
            "200/200 [==============================] - 5s 22ms/step - loss: 1.9049e-05 - accuracy: 1.0000\n",
            "Epoch 16/30\n",
            "200/200 [==============================] - 5s 23ms/step - loss: 1.9552e-05 - accuracy: 1.0000\n",
            "Epoch 17/30\n",
            "200/200 [==============================] - 5s 23ms/step - loss: 1.3268e-05 - accuracy: 1.0000\n",
            "Epoch 18/30\n",
            "200/200 [==============================] - 5s 23ms/step - loss: 1.0457e-05 - accuracy: 1.0000\n",
            "Epoch 19/30\n",
            "200/200 [==============================] - 5s 23ms/step - loss: 7.8975e-06 - accuracy: 1.0000\n",
            "Epoch 20/30\n",
            "200/200 [==============================] - 5s 23ms/step - loss: 6.7972e-06 - accuracy: 1.0000\n",
            "Epoch 21/30\n",
            "200/200 [==============================] - 5s 23ms/step - loss: 7.1517e-06 - accuracy: 1.0000\n",
            "Epoch 22/30\n",
            "200/200 [==============================] - 4s 22ms/step - loss: 5.5845e-06 - accuracy: 1.0000\n",
            "Epoch 23/30\n",
            "200/200 [==============================] - 5s 23ms/step - loss: 5.1470e-06 - accuracy: 1.0000\n",
            "Epoch 24/30\n",
            "200/200 [==============================] - 5s 23ms/step - loss: 4.8925e-06 - accuracy: 1.0000\n",
            "Epoch 25/30\n",
            "200/200 [==============================] - 5s 23ms/step - loss: 3.7694e-06 - accuracy: 1.0000\n",
            "Epoch 26/30\n",
            "200/200 [==============================] - 5s 23ms/step - loss: 3.2064e-06 - accuracy: 1.0000\n",
            "Epoch 27/30\n",
            "200/200 [==============================] - 5s 23ms/step - loss: 3.4285e-06 - accuracy: 1.0000\n",
            "Epoch 28/30\n",
            "200/200 [==============================] - 5s 23ms/step - loss: 3.0643e-06 - accuracy: 1.0000\n",
            "Epoch 29/30\n",
            "200/200 [==============================] - 5s 23ms/step - loss: 2.0521e-06 - accuracy: 1.0000\n",
            "Epoch 30/30\n",
            "200/200 [==============================] - 5s 23ms/step - loss: 2.1556e-06 - accuracy: 1.0000\n"
          ]
        },
        {
          "output_type": "display_data",
          "data": {
            "text/plain": [
              "<Figure size 640x480 with 1 Axes>"
            ],
            "image/png": "[encoded data removed]"
          },
          "metadata": {}
        },
        {
          "output_type": "stream",
          "name": "stdout",
          "text": [
            "25/25 [==============================] - 1s 25ms/step\n"
          ]
        },
        {
          "output_type": "stream",
          "name": "stderr",
          "text": [
            "\r3it [07:25, 148.43s/it]"
          ]
        },
        {
          "output_type": "stream",
          "name": "stdout",
          "text": [
            "kfold 4\n",
            "Epoch 1/30\n",
            "200/200 [==============================] - 5s 23ms/step - loss: 0.1228 - accuracy: 0.9653\n",
            "Epoch 2/30\n",
            "200/200 [==============================] - 5s 23ms/step - loss: 0.0630 - accuracy: 0.9800\n",
            "Epoch 3/30\n",
            "200/200 [==============================] - 5s 23ms/step - loss: 0.0231 - accuracy: 0.9934\n",
            "Epoch 4/30\n",
            "200/200 [==============================] - 5s 23ms/step - loss: 0.0054 - accuracy: 0.9984\n",
            "Epoch 5/30\n",
            "200/200 [==============================] - 5s 23ms/step - loss: 0.0160 - accuracy: 0.9978\n",
            "Epoch 6/30\n",
            "200/200 [==============================] - 5s 23ms/step - loss: 0.0213 - accuracy: 0.9944\n",
            "Epoch 7/30\n",
            "200/200 [==============================] - 5s 23ms/step - loss: 0.0088 - accuracy: 0.9978\n",
            "Epoch 8/30\n",
            "200/200 [==============================] - 5s 23ms/step - loss: 0.0021 - accuracy: 0.9991\n",
            "Epoch 9/30\n",
            "200/200 [==============================] - 5s 23ms/step - loss: 0.0332 - accuracy: 0.9906\n",
            "Epoch 10/30\n",
            "200/200 [==============================] - 5s 23ms/step - loss: 0.0125 - accuracy: 0.9966\n",
            "Epoch 11/30\n",
            "200/200 [==============================] - 5s 23ms/step - loss: 0.0139 - accuracy: 0.9962\n",
            "Epoch 12/30\n",
            "200/200 [==============================] - 5s 23ms/step - loss: 0.0052 - accuracy: 0.9984\n",
            "Epoch 13/30\n",
            "200/200 [==============================] - 5s 23ms/step - loss: 0.0081 - accuracy: 0.9981\n",
            "Epoch 14/30\n",
            "200/200 [==============================] - 5s 23ms/step - loss: 0.0068 - accuracy: 0.9978\n",
            "Epoch 15/30\n",
            "200/200 [==============================] - 5s 23ms/step - loss: 0.0195 - accuracy: 0.9941\n",
            "Epoch 16/30\n",
            "200/200 [==============================] - 5s 23ms/step - loss: 0.0066 - accuracy: 0.9978\n",
            "Epoch 17/30\n",
            "200/200 [==============================] - 5s 23ms/step - loss: 0.0082 - accuracy: 0.9981\n",
            "Epoch 18/30\n",
            "200/200 [==============================] - 4s 22ms/step - loss: 3.2678e-04 - accuracy: 1.0000\n",
            "Epoch 19/30\n",
            "200/200 [==============================] - 5s 23ms/step - loss: 1.1132e-04 - accuracy: 1.0000\n",
            "Epoch 20/30\n",
            "200/200 [==============================] - 5s 23ms/step - loss: 5.5847e-05 - accuracy: 1.0000\n",
            "Epoch 21/30\n",
            "200/200 [==============================] - 5s 23ms/step - loss: 3.0192e-05 - accuracy: 1.0000\n",
            "Epoch 22/30\n",
            "200/200 [==============================] - 5s 23ms/step - loss: 2.2363e-05 - accuracy: 1.0000\n",
            "Epoch 23/30\n",
            "200/200 [==============================] - 5s 23ms/step - loss: 1.7996e-05 - accuracy: 1.0000\n",
            "Epoch 24/30\n",
            "200/200 [==============================] - 5s 23ms/step - loss: 1.2067e-05 - accuracy: 1.0000\n",
            "Epoch 25/30\n",
            "200/200 [==============================] - 5s 23ms/step - loss: 2.5172e-05 - accuracy: 1.0000\n",
            "Epoch 26/30\n",
            "200/200 [==============================] - 5s 23ms/step - loss: 1.1906e-05 - accuracy: 1.0000\n",
            "Epoch 27/30\n",
            "200/200 [==============================] - 5s 23ms/step - loss: 9.6135e-06 - accuracy: 1.0000\n",
            "Epoch 28/30\n",
            "200/200 [==============================] - 5s 23ms/step - loss: 7.0491e-06 - accuracy: 1.0000\n",
            "Epoch 29/30\n",
            "200/200 [==============================] - 5s 23ms/step - loss: 1.0160e-05 - accuracy: 1.0000\n",
            "Epoch 30/30\n",
            "200/200 [==============================] - 5s 23ms/step - loss: 5.9929e-06 - accuracy: 1.0000\n"
          ]
        },
        {
          "output_type": "display_data",
          "data": {
            "text/plain": [
              "<Figure size 640x480 with 1 Axes>"
            ],
            "image/png": "[encoded data removed]"
          },
          "metadata": {}
        },
        {
          "output_type": "stream",
          "name": "stdout",
          "text": [
            "25/25 [==============================] - 1s 25ms/step\n"
          ]
        },
        {
          "output_type": "stream",
          "name": "stderr",
          "text": [
            "\r4it [09:54, 148.29s/it]"
          ]
        },
        {
          "output_type": "stream",
          "name": "stdout",
          "text": [
            "kfold 5\n",
            "Epoch 1/30\n",
            "200/200 [==============================] - 5s 23ms/step - loss: 0.1252 - accuracy: 0.9628\n",
            "Epoch 2/30\n",
            "200/200 [==============================] - 5s 23ms/step - loss: 0.0136 - accuracy: 0.9944\n",
            "Epoch 3/30\n",
            "200/200 [==============================] - 5s 23ms/step - loss: 0.0099 - accuracy: 0.9975\n",
            "Epoch 4/30\n",
            "200/200 [==============================] - 5s 23ms/step - loss: 0.0015 - accuracy: 0.9997\n",
            "Epoch 5/30\n",
            "200/200 [==============================] - 5s 23ms/step - loss: 0.0032 - accuracy: 0.9997\n",
            "Epoch 6/30\n",
            "200/200 [==============================] - 5s 23ms/step - loss: 7.9882e-04 - accuracy: 0.9997\n",
            "Epoch 7/30\n",
            "200/200 [==============================] - 5s 23ms/step - loss: 2.0365e-04 - accuracy: 1.0000\n",
            "Epoch 8/30\n",
            "200/200 [==============================] - 5s 23ms/step - loss: 1.2145e-04 - accuracy: 1.0000\n",
            "Epoch 9/30\n",
            "200/200 [==============================] - 5s 23ms/step - loss: 8.7033e-05 - accuracy: 1.0000\n",
            "Epoch 10/30\n",
            "200/200 [==============================] - 5s 23ms/step - loss: 5.3694e-05 - accuracy: 1.0000\n",
            "Epoch 11/30\n",
            "200/200 [==============================] - 5s 23ms/step - loss: 3.8625e-05 - accuracy: 1.0000\n",
            "Epoch 12/30\n",
            "200/200 [==============================] - 5s 23ms/step - loss: 2.6463e-05 - accuracy: 1.0000\n",
            "Epoch 13/30\n",
            "200/200 [==============================] - 4s 22ms/step - loss: 2.4079e-05 - accuracy: 1.0000\n",
            "Epoch 14/30\n",
            "200/200 [==============================] - 5s 23ms/step - loss: 1.4351e-05 - accuracy: 1.0000\n",
            "Epoch 15/30\n",
            "200/200 [==============================] - 4s 22ms/step - loss: 1.5585e-05 - accuracy: 1.0000\n",
            "Epoch 16/30\n",
            "200/200 [==============================] - 5s 23ms/step - loss: 1.0661e-05 - accuracy: 1.0000\n",
            "Epoch 17/30\n",
            "200/200 [==============================] - 5s 23ms/step - loss: 1.0257e-05 - accuracy: 1.0000\n",
            "Epoch 18/30\n",
            "200/200 [==============================] - 5s 23ms/step - loss: 7.3423e-06 - accuracy: 1.0000\n",
            "Epoch 19/30\n",
            "200/200 [==============================] - 5s 23ms/step - loss: 6.9932e-06 - accuracy: 1.0000\n",
            "Epoch 20/30\n",
            "200/200 [==============================] - 5s 23ms/step - loss: 6.5132e-06 - accuracy: 1.0000\n",
            "Epoch 21/30\n",
            "200/200 [==============================] - 5s 23ms/step - loss: 7.1262e-06 - accuracy: 1.0000\n",
            "Epoch 22/30\n",
            "200/200 [==============================] - 5s 23ms/step - loss: 4.7492e-06 - accuracy: 1.0000\n",
            "Epoch 23/30\n",
            "200/200 [==============================] - 5s 23ms/step - loss: 5.1779e-06 - accuracy: 1.0000\n",
            "Epoch 24/30\n",
            "200/200 [==============================] - 5s 23ms/step - loss: 4.6085e-06 - accuracy: 1.0000\n",
            "Epoch 25/30\n",
            "200/200 [==============================] - 5s 23ms/step - loss: 3.5913e-06 - accuracy: 1.0000\n",
            "Epoch 26/30\n",
            "200/200 [==============================] - 5s 23ms/step - loss: 5.5227e-06 - accuracy: 1.0000\n",
            "Epoch 27/30\n",
            "200/200 [==============================] - 5s 23ms/step - loss: 3.6621e-06 - accuracy: 1.0000\n",
            "Epoch 28/30\n",
            "200/200 [==============================] - 5s 23ms/step - loss: 3.8321e-06 - accuracy: 1.0000\n",
            "Epoch 29/30\n",
            "200/200 [==============================] - 5s 23ms/step - loss: 2.6165e-06 - accuracy: 1.0000\n",
            "Epoch 30/30\n",
            "200/200 [==============================] - 5s 23ms/step - loss: 2.4900e-06 - accuracy: 1.0000\n"
          ]
        },
        {
          "output_type": "display_data",
          "data": {
            "text/plain": [
              "<Figure size 640x480 with 1 Axes>"
            ],
            "image/png": "[encoded data removed]"
          },
          "metadata": {}
        },
        {
          "output_type": "stream",
          "name": "stdout",
          "text": [
            "25/25 [==============================] - 1s 25ms/step\n"
          ]
        },
        {
          "output_type": "stream",
          "name": "stderr",
          "text": [
            "5it [12:21, 148.37s/it]\n"
          ]
        }
      ]
    },
    {
      "cell_type": "code",
      "source": [
        "#Evaluate performance \n",
        "rounded_labels=np.argmax(labs, axis=1)\n",
        "print(classification_report(rounded_labels, preds))\n",
        "Acc= (np.count_nonzero(rounded_labels==preds))/len(preds)*100\n",
        "print('Acc:',Acc)\n",
        "#Display confusion matrix\n",
        "cm = confusion_matrix(rounded_labels, preds)\n",
        "print(cm)"
      ],
      "metadata": {
        "id": "IBWt7ByFox2V"
      },
      "execution_count": null,
      "outputs": []
    },
    {
      "cell_type": "code",
      "source": [
        "from sklearn.metrics import confusion_matrix, ConfusionMatrixDisplay\n",
        "disp = ConfusionMatrixDisplay(confusion_matrix=cm)\n",
        "disp.plot()"
      ],
      "metadata": {
        "id": "RANeOpNko3cp"
      },
      "execution_count": null,
      "outputs": []
    },
    {
      "cell_type": "code",
      "source": [
        "print(scores)\n",
        "#accuracy\n",
        "print(Acc)\n",
        "print('Cross Validation Accuracy:' , np.array(scores).mean()*100)"
      ],
      "metadata": {
        "colab": {
          "base_uri": "https://localhost:8080/"
        },
        "id": "59SfHAfqzhbZ",
        "outputId": "2b32cf57-2eac-4a49-f3c0-acfd651b30ba"
      },
      "execution_count": null,
      "outputs": [
        {
          "output_type": "stream",
          "name": "stdout",
          "text": [
            "[0.9912499785423279, 0.9987499713897705, 0.9962499737739563, 0.9975000023841858, 0.9950000047683716]\n",
            "99.575\n",
            "Cross Validation Accuracy: 99.57499861717224\n"
          ]
        }
      ]
    },
    {
      "cell_type": "code",
      "source": [
        "cmodel.save('/content/drive/MyDrive/BDD/5stratifiedkfold_8class_Balanced.h5')"
      ],
      "metadata": {
        "id": "2WyFmYHc2gJD"
      },
      "execution_count": null,
      "outputs": []
    }
  ]
}