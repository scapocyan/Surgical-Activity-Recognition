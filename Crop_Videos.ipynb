{
 "cells": [
  {
   "cell_type": "code",
   "execution_count": 3,
   "id": "132e0576",
   "metadata": {},
   "outputs": [],
   "source": [
    "import cv2\n",
    "import pandas as pd\n",
    "import numpy as np\n",
    "import os"
   ]
  },
  {
   "cell_type": "code",
   "execution_count": null,
   "id": "4e45defe",
   "metadata": {},
   "outputs": [],
   "source": [
    "file = r\"/Users/nanthininarayanan/Desktop/Courses/BDD/sar_rarp50/training_set_1/video_2/action_continues.txt\"\n",
    "X = pd.read_fwf(file,header=None)\n",
    "Y = X.to_numpy()\n",
    "vid_file = \"/Users/nanthininarayanan/Desktop/Courses/BDD/sar_rarp50/training_set_1/video_2/video_left.avi\"\n",
    "clipno = 16;\n",
    "path0 = r'/Users/nanthininarayanan/Desktop/Courses/BDD/sar_rarp50/class0' \n",
    "if not os.path.exists(path0):\n",
    "    os.makedirs(path0)\n",
    "path1 = r'/Users/nanthininarayanan/Desktop/Courses/BDD/sar_rarp50/class1' \n",
    "if not os.path.exists(path1):\n",
    "    os.makedirs(path1)\n",
    "path2 = r'/Users/nanthininarayanan/Desktop/Courses/BDD/sar_rarp50/class2' \n",
    "if not os.path.exists(path2):\n",
    "    os.makedirs(path2)\n",
    "path3 = r'/Users/nanthininarayanan/Desktop/Courses/BDD/sar_rarp50/class3' \n",
    "if not os.path.exists(path3):\n",
    "    os.makedirs(path3)\n",
    "path4 = r'/Users/nanthininarayanan/Desktop/Courses/BDD/sar_rarp50/class4' \n",
    "if not os.path.exists(path4):\n",
    "    os.makedirs(path4)\n",
    "path5 = r'/Users/nanthininarayanan/Desktop/Courses/BDD/sar_rarp50/class5' \n",
    "if not os.path.exists(path5):\n",
    "    os.makedirs(path5)\n",
    "path6 = r'/Users/nanthininarayanan/Desktop/Courses/BDD/sar_rarp50/class6' \n",
    "if not os.path.exists(path6):\n",
    "    os.makedirs(path6)\n",
    "path7 = r'/Users/nanthininarayanan/Desktop/Courses/BDD/sar_rarp50/class7' \n",
    "if not os.path.exists(path7):\n",
    "    os.makedirs(path7)\n",
    "parts=[]\n",
    "\n",
    "for i in range(Y.shape[0]):\n",
    "    s = Y[i,0];\n",
    "    e = Y[i,1];\n",
    "    label = Y[i,2];\n",
    "    for j in range(e//clipno):\n",
    "        if (s+clipno-1)>e:\n",
    "            break;\n",
    "        else:\n",
    "            parts.append((s,s+clipno-1));\n",
    "            s=s+clipno;\n",
    "            \n",
    "    cap = cv2.VideoCapture(vid_file)\n",
    "    ret, frame = cap.read()\n",
    "    h, w, _ = frame.shape\n",
    "    fourcc = cv2.VideoWriter_fourcc(*\"XVID\")\n",
    "    writers = [cv2.VideoWriter(f\"/Users/nanthininarayanan/Desktop/Courses/BDD/sar_rarp50/class{label}/vid2_part{start}-{end}.avi\", fourcc, 20.0, (w, h)) for start, end in parts]\n",
    "    f = 0\n",
    "    while ret:\n",
    "        f += 1\n",
    "        for i, part in enumerate(parts):\n",
    "            start, end = part\n",
    "            if start <= f <= end:\n",
    "                writers[i].write(frame)\n",
    "        ret, frame = cap.read()\n",
    "    for writer in writers:\n",
    "        writer.release()\n",
    "    cap.release()\n",
    "    parts=[]   "
   ]
  },
  {
   "cell_type": "code",
   "execution_count": null,
   "id": "798293ca",
   "metadata": {},
   "outputs": [],
   "source": []
  }
 ],
 "metadata": {
  "kernelspec": {
   "display_name": "Python 3 (ipykernel)",
   "language": "python",
   "name": "python3"
  },
  "language_info": {
   "codemirror_mode": {
    "name": "ipython",
    "version": 3
   },
   "file_extension": ".py",
   "mimetype": "text/x-python",
   "name": "python",
   "nbconvert_exporter": "python",
   "pygments_lexer": "ipython3",
   "version": "3.9.13"
  }
 },
 "nbformat": 4,
 "nbformat_minor": 5
}
