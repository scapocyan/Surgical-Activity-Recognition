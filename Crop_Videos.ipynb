{
 "cells": [
  {
   "cell_type": "code",
   "execution_count": 1,
   "id": "132e0576",
   "metadata": {},
   "outputs": [],
   "source": [
    "import cv2"
   ]
  },
  {
   "cell_type": "code",
   "execution_count": 2,
   "id": "4e45defe",
   "metadata": {},
   "outputs": [],
   "source": [
    "file = \"video_left.avi\"\n",
    "parts = [(931,1130),(1790,1989)]\n",
    "\n",
    "cap = cv2.VideoCapture(file)\n",
    "ret, frame = cap.read()\n",
    "h, w, _ = frame.shape\n",
    "\n",
    "fourcc = cv2.VideoWriter_fourcc(*\"XVID\")\n",
    "writers = [cv2.VideoWriter(f\"part{start}-{end}.avi\", fourcc, 20.0, (w, h)) for start, end in parts]\n",
    "\n",
    "f = 0\n",
    "while ret:\n",
    "    f += 1\n",
    "    for i, part in enumerate(parts):\n",
    "        start, end = part\n",
    "        if start <= f <= end:\n",
    "            writers[i].write(frame)\n",
    "    ret, frame = cap.read()\n",
    "\n",
    "for writer in writers:\n",
    "    writer.release()\n",
    "\n",
    "cap.release()"
   ]
  },
  {
   "cell_type": "code",
   "execution_count": null,
   "id": "f12f0d30",
   "metadata": {},
   "outputs": [],
   "source": []
  }
 ],
 "metadata": {
  "kernelspec": {
   "display_name": "Python 3 (ipykernel)",
   "language": "python",
   "name": "python3"
  },
  "language_info": {
   "codemirror_mode": {
    "name": "ipython",
    "version": 3
   },
   "file_extension": ".py",
   "mimetype": "text/x-python",
   "name": "python",
   "nbconvert_exporter": "python",
   "pygments_lexer": "ipython3",
   "version": "3.9.13"
  }
 },
 "nbformat": 4,
 "nbformat_minor": 5
}
