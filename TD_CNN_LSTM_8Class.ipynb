{
  "nbformat": 4,
  "nbformat_minor": 0,
  "metadata": {
    "colab": {
      "provenance": [],
      "machine_shape": "hm"
    },
    "kernelspec": {
      "name": "python3",
      "display_name": "Python 3"
    },
    "language_info": {
      "name": "python"
    },
    "accelerator": "GPU",
    "gpuClass": "premium"
  },
  "cells": [
    {
      "cell_type": "markdown",
      "source": [
        "### 8 Class Classification using TD-CNN-LSTM\n",
        "\n",
        "In this notebook, 8 class classification of the surgical video clips is implemented with a TD-CNN-LSTM model. \n"
      ],
      "metadata": {
        "id": "LTmZJNJqVusO"
      }
    },
    {
      "cell_type": "code",
      "source": [
        "from google.colab import drive"
      ],
      "metadata": {
        "id": "Dc_jiNvLupG5"
      },
      "execution_count": null,
      "outputs": []
    },
    {
      "cell_type": "code",
      "source": [
        "#mount google drive\n",
        "drive.mount('/content/drive')"
      ],
      "metadata": {
        "colab": {
          "base_uri": "https://localhost:8080/"
        },
        "id": "4Eive1GEVcRj",
        "outputId": "1fb98acc-3750-4b30-af7a-3573f7916ea2"
      },
      "execution_count": null,
      "outputs": [
        {
          "output_type": "stream",
          "name": "stdout",
          "text": [
            "Mounted at /content/drive\n"
          ]
        }
      ]
    },
    {
      "cell_type": "code",
      "source": [
        "import numpy as np\n",
        "import cv2\n",
        "\n",
        "#functions to read the video clips\n",
        "class Videoto3D:\n",
        "\n",
        "    def __init__(self, width, height, depth):\n",
        "        self.width = width\n",
        "        self.height = height\n",
        "        self.depth = depth\n",
        "\n",
        "    def video3d(self, filename, color=False, skip=True):\n",
        "        \n",
        "        cap = cv2.VideoCapture(filename)\n",
        "\n",
        "        nframe = cap.get(cv2.CAP_PROP_FRAME_COUNT)\n",
        "\n",
        "        if skip:\n",
        "            frames = [x * nframe / self.depth for x in range(self.depth)]\n",
        "        else:\n",
        "            frames = [x for x in range(self.depth)]\n",
        "        \n",
        "        framearray = []\n",
        "\n",
        "        for i in range(self.depth):\n",
        "            cap.set(cv2.CAP_PROP_POS_FRAMES, frames[i])\n",
        "            ret, frame = cap.read()\n",
        "            try:\n",
        "              frame = cv2.resize(frame, (self.height, self.width))\n",
        "            except:\n",
        "              print(\"break here\")\n",
        "              break\n",
        "        \n",
        "            if color:\n",
        "                framearray.append(frame)\n",
        "            else:\n",
        "                framearray.append(cv2.cvtColor(frame, cv2.COLOR_BGR2GRAY))\n",
        "\n",
        "        cap.release()\n",
        "        \n",
        "        return np.array(framearray)"
      ],
      "metadata": {
        "id": "mtnOa9S3QxQB"
      },
      "execution_count": null,
      "outputs": []
    },
    {
      "cell_type": "code",
      "source": [
        "import argparse\n",
        "import os\n",
        "\n",
        "import matplotlib\n",
        "matplotlib.use('AGG')\n",
        "\n",
        "import matplotlib.pyplot as plt\n",
        "import numpy as np\n",
        "\n",
        "from keras.datasets import cifar10\n",
        "from keras.layers import (Activation, Conv2D, Dense, Dropout, Flatten,\n",
        "                          MaxPool2D, Input, ZeroPadding2D,TimeDistributed,LSTM)\n",
        "import keras\n",
        "from keras.layers import ELU, PReLU, LeakyReLU, Input\n",
        "from keras.losses import categorical_crossentropy\n",
        "from keras.models import Sequential\n",
        "from keras.optimizers import Adam\n",
        "from keras.utils import np_utils\n",
        "from keras.utils.vis_utils import plot_model\n",
        "from sklearn import metrics\n",
        "from sklearn.model_selection import train_test_split\n",
        "from sklearn.metrics import classification_report,confusion_matrix\n",
        "from sklearn.preprocessing import MinMaxScaler\n",
        "\n",
        "from tqdm import tqdm\n",
        "\n",
        "from keras.callbacks import ModelCheckpoint\n",
        "\n",
        "import tensorflow as tf\n",
        "from keras.backend import set_session\n",
        "\n",
        "#function to load videos and labels from the given path to directory\n",
        "def loaddata(video_dir, vid3d, nclass, color=False, skip=True):\n",
        "    \n",
        "    files = os.listdir(video_dir)  \n",
        "    X = []\n",
        "    labels = []\n",
        "    pbar = tqdm(total=len(files))\n",
        "    \n",
        "    for filename in files:\n",
        "\n",
        "        pbar.update(1)\n",
        "\n",
        "        name = os.path.join(video_dir, filename)\n",
        "        for v_files in os.listdir(name):\n",
        "        \n",
        "            v_file_path = os.path.join(name, v_files)\n",
        "            \n",
        "            X.append(vid3d.video3d(v_file_path, color=color, skip=skip))\n",
        "\n",
        "            labels.append(int(name[-1]))\n",
        "\n",
        "    pbar.close()\n",
        "\n",
        "    if color:\n",
        "        return np.array(X), labels\n",
        "    else:\n",
        "        return np.array(X), labels"
      ],
      "metadata": {
        "id": "Va8WnKf2Z-AE"
      },
      "execution_count": null,
      "outputs": []
    },
    {
      "cell_type": "markdown",
      "source": [
        "The videos are loaded and resized to 112x112x3. The parameters for the model are set and the inputs along with the labels are reshaped."
      ],
      "metadata": {
        "id": "pjAq9laZWeBX"
      }
    },
    {
      "cell_type": "code",
      "source": [
        "#parameters for dataset\n",
        "depth = 16\n",
        "img_rows, img_cols, frames = 112, 112, depth\n",
        "channel = 3 \n",
        "batch = 16\n",
        "epoch = 30\n",
        "videos = '/content/drive/MyDrive/BDD/clipped_videos'\n",
        "color = True\n",
        "skip = False\n",
        "nclass = 8\n",
        "\n",
        "vid3d = Videoto3D(img_rows, img_cols, frames)\n",
        "nb_classes = 8\n",
        "#return data in x and labels in y\n",
        "x, y = loaddata(videos, vid3d, nclass, color, skip)\n",
        "\n",
        "print(x.shape)\n",
        "\n",
        "#reshape x and convert labels to categorical for the model\n",
        "X = x.reshape((x.shape[0], frames, img_cols, img_rows, channel))\n",
        "Y = np_utils.to_categorical(y,num_classes=nb_classes)\n",
        "\n",
        "X = X.astype('float32')\n",
        "    \n",
        "print('\\nX_shape:{}\\nY_shape:{}'.format(X.shape, Y.shape))"
      ],
      "metadata": {
        "id": "s8PgpEHoizJ3"
      },
      "execution_count": null,
      "outputs": []
    },
    {
      "cell_type": "markdown",
      "source": [
        "The proposed TD-CNN-LSTM model is defined below."
      ],
      "metadata": {
        "id": "F2XFmYx2Wx1c"
      }
    },
    {
      "cell_type": "code",
      "source": [
        "#define the model\n",
        "\n",
        "cmodel = Sequential()\n",
        "cmodel.add(TimeDistributed(Conv2D(32, (3, 3), strides=(2, 2), activation='relu', padding='same'), input_shape=(16, 112, 112, 3)))\n",
        "cmodel.add(TimeDistributed(Conv2D(32, (3,3), kernel_initializer=\"he_normal\", activation='relu')))\n",
        "cmodel.add(TimeDistributed(MaxPool2D((2, 2), strides=(2, 2))))\n",
        "\n",
        "cmodel.add(TimeDistributed(Conv2D(64, (3,3), padding='same', activation='relu')))\n",
        "cmodel.add(TimeDistributed(Conv2D(64, (3,3), padding='same', activation='relu')))\n",
        "cmodel.add(TimeDistributed(MaxPool2D((2, 2), strides=(2, 2))))\n",
        "\n",
        "cmodel.add(TimeDistributed(Conv2D(128, (3,3), padding='same', activation='relu')))\n",
        "cmodel.add(TimeDistributed(Conv2D(128, (3,3), padding='same', activation='relu')))\n",
        "cmodel.add(TimeDistributed(MaxPool2D((2, 2), strides=(2, 2))))\n",
        "\n",
        "cmodel.add(TimeDistributed(Conv2D(256, (3,3), padding='same', activation='relu')))\n",
        "cmodel.add(TimeDistributed(Conv2D(256, (3,3), padding='same', activation='relu')))\n",
        "cmodel.add(TimeDistributed(MaxPool2D((2, 2), strides=(2, 2))))\n",
        "\n",
        "cmodel.add(TimeDistributed(Conv2D(512, (3,3), padding='same', activation='relu')))\n",
        "cmodel.add(TimeDistributed(Conv2D(512, (3,3), padding='same', activation='relu')))\n",
        "cmodel.add(TimeDistributed(MaxPool2D((2, 2), strides=(2, 2))))\n",
        "\n",
        "cmodel.add(TimeDistributed(Flatten()))\n",
        "\n",
        "cmodel.add(Dropout(0.5))\n",
        "cmodel.add(LSTM(512, return_sequences=False, dropout=0.5))\n",
        "cmodel.add(Dense(8, activation='softmax'))\n",
        "cmodel.summary()\n",
        "\n",
        "#define optimizer and compile the model\n",
        "optimizer = keras.optimizers.Adam(learning_rate=0.0001)\n",
        "cmodel.compile(optimizer,loss=categorical_crossentropy,metrics=['accuracy'])\n",
        "\n",
        "print(cmodel.summary())"
      ],
      "metadata": {
        "id": "dHTPPxL-RPsg",
        "colab": {
          "base_uri": "https://localhost:8080/"
        },
        "outputId": "a121cf96-c9c8-476a-8cc9-05ed379a20ca"
      },
      "execution_count": null,
      "outputs": [
        {
          "output_type": "stream",
          "name": "stdout",
          "text": [
            "Model: \"sequential\"\n",
            "_________________________________________________________________\n",
            " Layer (type)                Output Shape              Param #   \n",
            "=================================================================\n",
            " time_distributed (TimeDistr  (None, 16, 56, 56, 32)   896       \n",
            " ibuted)                                                         \n",
            "                                                                 \n",
            " time_distributed_1 (TimeDis  (None, 16, 54, 54, 32)   9248      \n",
            " tributed)                                                       \n",
            "                                                                 \n",
            " time_distributed_2 (TimeDis  (None, 16, 27, 27, 32)   0         \n",
            " tributed)                                                       \n",
            "                                                                 \n",
            " time_distributed_3 (TimeDis  (None, 16, 27, 27, 64)   18496     \n",
            " tributed)                                                       \n",
            "                                                                 \n",
            " time_distributed_4 (TimeDis  (None, 16, 27, 27, 64)   36928     \n",
            " tributed)                                                       \n",
            "                                                                 \n",
            " time_distributed_5 (TimeDis  (None, 16, 13, 13, 64)   0         \n",
            " tributed)                                                       \n",
            "                                                                 \n",
            " time_distributed_6 (TimeDis  (None, 16, 13, 13, 128)  73856     \n",
            " tributed)                                                       \n",
            "                                                                 \n",
            " time_distributed_7 (TimeDis  (None, 16, 13, 13, 128)  147584    \n",
            " tributed)                                                       \n",
            "                                                                 \n",
            " time_distributed_8 (TimeDis  (None, 16, 6, 6, 128)    0         \n",
            " tributed)                                                       \n",
            "                                                                 \n",
            " time_distributed_9 (TimeDis  (None, 16, 6, 6, 256)    295168    \n",
            " tributed)                                                       \n",
            "                                                                 \n",
            " time_distributed_10 (TimeDi  (None, 16, 6, 6, 256)    590080    \n",
            " stributed)                                                      \n",
            "                                                                 \n",
            " time_distributed_11 (TimeDi  (None, 16, 3, 3, 256)    0         \n",
            " stributed)                                                      \n",
            "                                                                 \n",
            " time_distributed_12 (TimeDi  (None, 16, 3, 3, 512)    1180160   \n",
            " stributed)                                                      \n",
            "                                                                 \n",
            " time_distributed_13 (TimeDi  (None, 16, 3, 3, 512)    2359808   \n",
            " stributed)                                                      \n",
            "                                                                 \n",
            " time_distributed_14 (TimeDi  (None, 16, 1, 1, 512)    0         \n",
            " stributed)                                                      \n",
            "                                                                 \n",
            " time_distributed_15 (TimeDi  (None, 16, 512)          0         \n",
            " stributed)                                                      \n",
            "                                                                 \n",
            " dropout (Dropout)           (None, 16, 512)           0         \n",
            "                                                                 \n",
            " lstm (LSTM)                 (None, 512)               2099200   \n",
            "                                                                 \n",
            " dense (Dense)               (None, 4)                 2052      \n",
            "                                                                 \n",
            "=================================================================\n",
            "Total params: 6,813,476\n",
            "Trainable params: 6,813,476\n",
            "Non-trainable params: 0\n",
            "_________________________________________________________________\n",
            "Model: \"sequential\"\n",
            "_________________________________________________________________\n",
            " Layer (type)                Output Shape              Param #   \n",
            "=================================================================\n",
            " time_distributed (TimeDistr  (None, 16, 56, 56, 32)   896       \n",
            " ibuted)                                                         \n",
            "                                                                 \n",
            " time_distributed_1 (TimeDis  (None, 16, 54, 54, 32)   9248      \n",
            " tributed)                                                       \n",
            "                                                                 \n",
            " time_distributed_2 (TimeDis  (None, 16, 27, 27, 32)   0         \n",
            " tributed)                                                       \n",
            "                                                                 \n",
            " time_distributed_3 (TimeDis  (None, 16, 27, 27, 64)   18496     \n",
            " tributed)                                                       \n",
            "                                                                 \n",
            " time_distributed_4 (TimeDis  (None, 16, 27, 27, 64)   36928     \n",
            " tributed)                                                       \n",
            "                                                                 \n",
            " time_distributed_5 (TimeDis  (None, 16, 13, 13, 64)   0         \n",
            " tributed)                                                       \n",
            "                                                                 \n",
            " time_distributed_6 (TimeDis  (None, 16, 13, 13, 128)  73856     \n",
            " tributed)                                                       \n",
            "                                                                 \n",
            " time_distributed_7 (TimeDis  (None, 16, 13, 13, 128)  147584    \n",
            " tributed)                                                       \n",
            "                                                                 \n",
            " time_distributed_8 (TimeDis  (None, 16, 6, 6, 128)    0         \n",
            " tributed)                                                       \n",
            "                                                                 \n",
            " time_distributed_9 (TimeDis  (None, 16, 6, 6, 256)    295168    \n",
            " tributed)                                                       \n",
            "                                                                 \n",
            " time_distributed_10 (TimeDi  (None, 16, 6, 6, 256)    590080    \n",
            " stributed)                                                      \n",
            "                                                                 \n",
            " time_distributed_11 (TimeDi  (None, 16, 3, 3, 256)    0         \n",
            " stributed)                                                      \n",
            "                                                                 \n",
            " time_distributed_12 (TimeDi  (None, 16, 3, 3, 512)    1180160   \n",
            " stributed)                                                      \n",
            "                                                                 \n",
            " time_distributed_13 (TimeDi  (None, 16, 3, 3, 512)    2359808   \n",
            " stributed)                                                      \n",
            "                                                                 \n",
            " time_distributed_14 (TimeDi  (None, 16, 1, 1, 512)    0         \n",
            " stributed)                                                      \n",
            "                                                                 \n",
            " time_distributed_15 (TimeDi  (None, 16, 512)          0         \n",
            " stributed)                                                      \n",
            "                                                                 \n",
            " dropout (Dropout)           (None, 16, 512)           0         \n",
            "                                                                 \n",
            " lstm (LSTM)                 (None, 512)               2099200   \n",
            "                                                                 \n",
            " dense (Dense)               (None, 4)                 2052      \n",
            "                                                                 \n",
            "=================================================================\n",
            "Total params: 6,813,476\n",
            "Trainable params: 6,813,476\n",
            "Non-trainable params: 0\n",
            "_________________________________________________________________\n",
            "None\n"
          ]
        }
      ]
    },
    {
      "cell_type": "markdown",
      "source": [
        "Using StratifiedKFold, the model is repeatedly evaluated and the metrics are displayed."
      ],
      "metadata": {
        "id": "l6VdoXvLW3M8"
      }
    },
    {
      "cell_type": "code",
      "source": [
        "from tqdm import tqdm\n",
        "from sklearn.model_selection import StratifiedKFold\n",
        "\n",
        "#perform k-fold cross validation\n",
        "scores, histories = list(), list()\n",
        "Acc = []\n",
        "preds = []\n",
        "labs = []\n",
        "predScore = []\n",
        "kfold = StratifiedKFold(5, shuffle=True, random_state=1)\n",
        "# enumerate splits\n",
        "k = 0\n",
        "scaler = MinMaxScaler()\n",
        "\n",
        "for train_ix, test_ix in tqdm(kfold.split(X,np.argmax(Y, axis=1))):\n",
        "    print('kfold {}'.format(k+1)) \n",
        "    # select rows for train and test\n",
        "    trainX, trainY, testX, testY = X[train_ix], Y[train_ix], X[test_ix], Y[test_ix]\n",
        "\n",
        "    # #scale inputs\n",
        "    # scaler.fit(trainX)\n",
        "    # trainX = scaler.transform(trainX)\n",
        "    # testX = scaler.transform(testX)\n",
        "    \n",
        "    # fit model\n",
        "    history = cmodel.fit(trainX, trainY, batch_size=batch,\n",
        "                    epochs=30, verbose=1, shuffle=True)\n",
        "    \n",
        "    histories.append(history)\n",
        "    %matplotlib inline\n",
        "    plt.plot(history.history['accuracy'])\n",
        "    plt.title('Training Progress')\n",
        "    plt.ylabel('accuracy')\n",
        "    plt.xlabel('epoch')\n",
        "    plt.plot(history.history['loss'])\n",
        "    plt.ylabel('accuracy')\n",
        "    plt.xlabel('epoch')\n",
        "    plt.legend(['accuracy','loss'], loc='upper right')\n",
        "    plt.show()\n",
        "    # evaluate model\n",
        "    _, acc = cmodel.evaluate(testX, testY, verbose=0)\n",
        "    # append scores\n",
        "    scores.append(acc)\n",
        "    #print('Accuracy: %.3f%% (+/- %.3f)' % (np.mean(scores)*100, np.std(scores)))\n",
        "    rounded_predictions = cmodel.predict(testX)\n",
        "    score = rounded_predictions\n",
        "    rounded_predictions = np.argmax(np.round(rounded_predictions),axis=1)\n",
        "    preds.extend(rounded_predictions)\n",
        "    predScore.extend(score)\n",
        "    labs.extend(testY)\n",
        "    rounded_labels=np.argmax(testY, axis=1)\n",
        "    Acc.append(np.count_nonzero(rounded_labels==rounded_predictions)/len(rounded_predictions)*100)\n",
        "    k = k + 1"
      ],
      "metadata": {
        "id": "as5z_h5bkOBg"
      },
      "execution_count": null,
      "outputs": []
    },
    {
      "cell_type": "code",
      "source": [
        "#Evaluate performance \n",
        "rounded_labels=np.argmax(labs, axis=1)\n",
        "print(classification_report(rounded_labels, preds))\n",
        "Acc= (np.count_nonzero(rounded_labels==preds))/len(preds)*100\n",
        "print('Acc:',Acc)\n",
        "#Display confusion matrix\n",
        "cm = confusion_matrix(rounded_labels, preds)\n",
        "print(cm)"
      ],
      "metadata": {
        "id": "IBWt7ByFox2V"
      },
      "execution_count": null,
      "outputs": []
    },
    {
      "cell_type": "code",
      "source": [
        "from sklearn.metrics import confusion_matrix, ConfusionMatrixDisplay\n",
        "disp = ConfusionMatrixDisplay(confusion_matrix=cm)\n",
        "disp.plot()"
      ],
      "metadata": {
        "id": "RANeOpNko3cp"
      },
      "execution_count": null,
      "outputs": []
    },
    {
      "cell_type": "code",
      "source": [
        "print(scores)\n",
        "#accuracy\n",
        "print(Acc)\n",
        "print('Cross Validation Accuracy:' , np.array(scores).mean()*100)"
      ],
      "metadata": {
        "colab": {
          "base_uri": "https://localhost:8080/"
        },
        "id": "59SfHAfqzhbZ",
        "outputId": "2b32cf57-2eac-4a49-f3c0-acfd651b30ba"
      },
      "execution_count": null,
      "outputs": [
        {
          "output_type": "stream",
          "name": "stdout",
          "text": [
            "[0.9912499785423279, 0.9987499713897705, 0.9962499737739563, 0.9975000023841858, 0.9950000047683716]\n",
            "99.575\n",
            "Cross Validation Accuracy: 99.57499861717224\n"
          ]
        }
      ]
    },
    {
      "cell_type": "code",
      "source": [
        "cmodel.save('/content/drive/MyDrive/BDD/5stratifiedkfold_8class_Unbalanced.h5')"
      ],
      "metadata": {
        "id": "2WyFmYHc2gJD"
      },
      "execution_count": null,
      "outputs": []
    }
  ]
}