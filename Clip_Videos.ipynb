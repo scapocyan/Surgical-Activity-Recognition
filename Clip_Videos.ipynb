{
  "cells": [
    {
      "cell_type": "markdown",
      "source": [
        "### Clip Videos\n",
        "\n",
        "This notebook clips the videos from the training sets into video clips with 16 frames."
      ],
      "metadata": {
        "id": "vMmJdX1ZdfnL"
      },
      "id": "vMmJdX1ZdfnL"
    },
    {
      "cell_type": "code",
      "execution_count": null,
      "metadata": {
        "id": "132e0576"
      },
      "outputs": [],
      "source": [
        "import cv2\n",
        "import pandas as pd\n",
        "import numpy as np\n",
        "import os\n",
        "import pathlib"
      ],
      "id": "132e0576"
    },
    {
      "cell_type": "code",
      "execution_count": null,
      "metadata": {
        "colab": {
          "base_uri": "https://localhost:8080/"
        },
        "id": "iXXz5yssLoe3",
        "outputId": "2d9259df-0ed3-41ce-8845-c1f93ef8bf0a"
      },
      "outputs": [
        {
          "output_type": "stream",
          "name": "stdout",
          "text": [
            "Mounted at /content/drive\n",
            "drive/MyDrive/BDD\n"
          ]
        }
      ],
      "source": [
        "from google.colab import drive\n",
        "drive.mount('/content/drive')\n",
        "drive = pathlib.Path('./drive/MyDrive') / 'BDD'\n",
        "print(drive)"
      ],
      "id": "iXXz5yssLoe3"
    },
    {
      "cell_type": "code",
      "execution_count": null,
      "metadata": {
        "colab": {
          "base_uri": "https://localhost:8080/"
        },
        "id": "Nx0aabp-uL39",
        "outputId": "75ad3eca-eac3-414e-cc20-07db7f1a2baa"
      },
      "outputs": [
        {
          "name": "stdout",
          "output_type": "stream",
          "text": [
            "1633 1648 0\n",
            "1734 1749 1\n",
            "2814 2829 2\n",
            "2916 2931 3\n",
            "3358 3373 7\n",
            "3522 3537 1\n",
            "4247 4262 7\n",
            "5056 5071 0\n",
            "5156 5171 1\n",
            "5864 5879 2\n",
            "6385 6400 3\n",
            "6727 6742 4\n",
            "7104 7119 1\n",
            "7240 7255 2\n",
            "7546 7561 3\n",
            "7908 7923 4\n",
            "8209 8224 1\n",
            "8329 8344 2\n",
            "8604 8619 3\n",
            "8997 9012 4\n",
            "9310 9325 1\n",
            "9482 9497 2\n",
            "9674 9689 3\n",
            "9971 9986 4\n",
            "10321 10336 1\n",
            "10695 10710 2\n",
            "10891 10906 3\n",
            "11350 11365 4\n",
            "11614 11629 1\n",
            "11960 11975 2\n",
            "12135 12150 3\n",
            "12349 12364 4\n",
            "12467 12482 1\n",
            "12723 12738 2\n",
            "12918 12933 3\n",
            "13134 13149 4\n",
            "13234 13249 1\n",
            "13490 13505 2\n",
            "13676 13691 3\n",
            "13852 13867 4\n",
            "15127 15142 5\n",
            "15695 15710 6\n",
            "15941 15956 1\n",
            "16407 16422 7\n",
            "16495 16510 0\n"
          ]
        }
      ],
      "source": [
        "file = \"drive/MyDrive/BDD/training_set_2/video_40/action_continues.txt\"\n",
        "X = pd.read_fwf(file,header=None)\n",
        "Y = X.to_numpy()\n",
        "vid_file = \"drive/MyDrive/BDD/training_set_2/video_40/video_left.avi\"\n",
        "clipno = 16;\n",
        "path0 = \"drive/MyDrive/BDD/other_clipped/class0\" \n",
        "\n",
        "path1 = \"drive/MyDrive/BDD/other_clipped/class1\"\n",
        "\n",
        "path2 = \"drive/MyDrive/BDD/other_clipped/class2\" \n",
        "\n",
        "path3 = \"drive/MyDrive/BDD/other_clipped/class3\" \n",
        "\n",
        "path4 = \"drive/MyDrive/BDD/other_clipped/class4\" \n",
        "\n",
        "path5 = \"drive/MyDrive/BDD/other_clipped/class5\"\n",
        "\n",
        "path6 = \"drive/MyDrive/BDD/other_clipped/class6\" \n",
        "\n",
        "path7 = \"drive/MyDrive/BDD/other_clipped/class7\" \n",
        "\n",
        "parts=[]\n",
        "\n",
        "for i in range(Y.shape[0]):\n",
        "    s = Y[i,0];\n",
        "    if s == 0:\n",
        "        s=1;\n",
        "    e = Y[i,1];\n",
        "    label = Y[i,2];\n",
        "    for j in range(e//clipno):\n",
        "        if (s+clipno-1)>e:\n",
        "            break;\n",
        "        else:\n",
        "            parts.append((s,s+clipno-1));\n",
        "            s=s+clipno;\n",
        "            \n",
        "    cap = cv2.VideoCapture(vid_file)\n",
        "    ret, frame = cap.read()\n",
        "    h, w, _ = frame.shape\n",
        "    fourcc = cv2.VideoWriter_fourcc(*\"XVID\")\n",
        "    writers = [cv2.VideoWriter(f\"drive/MyDrive/BDD/other_clipped/class{label}/vid40_part{start}-{end}.avi\", fourcc, 20.0, (w, h)) for start, end in parts]\n",
        "    f = 0\n",
        "    while ret:\n",
        "        f += 1\n",
        "        for i, part in enumerate(parts):\n",
        "            start, end = part\n",
        "            if start <= f <= end:\n",
        "                writers[i].write(frame)\n",
        "        ret, frame = cap.read()\n",
        "    for writer in writers:\n",
        "        writer.release()\n",
        "    cap.release()\n",
        "    print(start, end, label)\n",
        "    parts=[]"
      ],
      "id": "Nx0aabp-uL39"
    },
    {
      "cell_type": "code",
      "execution_count": null,
      "metadata": {
        "id": "MMDRqUKn9c5n"
      },
      "outputs": [],
      "source": [
        "# move files from old to new dir\n",
        "\n",
        "import os\n",
        "import shutil\n",
        "import random\n",
        "\n",
        "new_dir = \"drive/MyDrive/BDD/clipped_videos/class7\"\n",
        "old_dir = \"drive/MyDrive/BDD/other_clipped/class7\"\n",
        "\n",
        "videos = os.listdir(old_dir)\n",
        "shuffled_videos = random.sample(videos, 700)"
      ],
      "id": "MMDRqUKn9c5n"
    },
    {
      "cell_type": "code",
      "execution_count": null,
      "metadata": {
        "id": "T74cUjMBAzTX"
      },
      "outputs": [],
      "source": [
        "# for vid in videos:\n",
        "#   os.replace(old_dir + '/' + vid, new_dir + '/' + vid)"
      ],
      "id": "T74cUjMBAzTX"
    },
    {
      "cell_type": "code",
      "execution_count": null,
      "metadata": {
        "id": "dcEfg36xGOeA"
      },
      "outputs": [],
      "source": [
        "for vid in shuffled_videos:\n",
        "  shutil.copy(old_dir + '/' + vid, new_dir + '/' + vid)"
      ],
      "id": "dcEfg36xGOeA"
    },
    {
      "cell_type": "code",
      "execution_count": null,
      "metadata": {
        "colab": {
          "base_uri": "https://localhost:8080/"
        },
        "id": "_GQMOnnt3qOZ",
        "outputId": "941f1327-6a7e-491f-9515-34b7a3cd834c"
      },
      "outputs": [
        {
          "output_type": "stream",
          "name": "stdout",
          "text": [
            "File count: 700\n"
          ]
        }
      ],
      "source": [
        "# count no of videos in the folder\n",
        "\n",
        "import os\n",
        "\n",
        "# folder path\n",
        "dir_path = \"drive/MyDrive/BDD/clipped_videos/class7\"\n",
        "# dir_path = \"drive/MyDrive/BDD/other_clipped/class0\"\n",
        "\n",
        "count = 0\n",
        "# Iterate directory\n",
        "for path in os.listdir(dir_path):\n",
        "    # check if current path is a file\n",
        "    if os.path.isfile(os.path.join(dir_path, path)):\n",
        "        count += 1\n",
        "print('File count:', count)"
      ],
      "id": "_GQMOnnt3qOZ"
    }
  ],
  "metadata": {
    "colab": {
      "provenance": []
    },
    "gpuClass": "standard",
    "kernelspec": {
      "display_name": "Python 3 (ipykernel)",
      "language": "python",
      "name": "python3"
    },
    "language_info": {
      "codemirror_mode": {
        "name": "ipython",
        "version": 3
      },
      "file_extension": ".py",
      "mimetype": "text/x-python",
      "name": "python",
      "nbconvert_exporter": "python",
      "pygments_lexer": "ipython3",
      "version": "3.9.13"
    }
  },
  "nbformat": 4,
  "nbformat_minor": 5
}