{
  "nbformat": 4,
  "nbformat_minor": 0,
  "metadata": {
    "colab": {
      "provenance": []
    },
    "kernelspec": {
      "name": "python3",
      "display_name": "Python 3"
    },
    "language_info": {
      "name": "python"
    },
    "accelerator": "GPU",
    "gpuClass": "standard"
  },
  "cells": [
    {
      "cell_type": "code",
      "source": [
        "from google.colab import drive"
      ],
      "metadata": {
        "id": "Dc_jiNvLupG5"
      },
      "execution_count": null,
      "outputs": []
    },
    {
      "cell_type": "code",
      "source": [
        "drive.mount('/content/drive')"
      ],
      "metadata": {
        "colab": {
          "base_uri": "https://localhost:8080/"
        },
        "id": "4Eive1GEVcRj",
        "outputId": "df30fceb-6db5-4f2a-c9bc-5d230a19527f"
      },
      "execution_count": null,
      "outputs": [
        {
          "output_type": "stream",
          "name": "stdout",
          "text": [
            "Mounted at /content/drive\n"
          ]
        }
      ]
    },
    {
      "cell_type": "code",
      "source": [
        "import numpy as np\n",
        "import cv2\n",
        "\n",
        "class Videoto3D:\n",
        "\n",
        "    def __init__(self, width, height, depth):\n",
        "        self.width = width\n",
        "        self.height = height\n",
        "        self.depth = depth\n",
        "\n",
        "    def video3d(self, filename, color=False, skip=True):\n",
        "        \n",
        "        cap = cv2.VideoCapture(filename)\n",
        "\n",
        "        nframe = cap.get(cv2.CAP_PROP_FRAME_COUNT)\n",
        "\n",
        "        if skip:\n",
        "            frames = [x * nframe / self.depth for x in range(self.depth)]\n",
        "        else:\n",
        "            frames = [x for x in range(self.depth)]\n",
        "        \n",
        "        framearray = []\n",
        "\n",
        "        for i in range(self.depth):\n",
        "            cap.set(cv2.CAP_PROP_POS_FRAMES, frames[i])\n",
        "            ret, frame = cap.read()\n",
        "            try:\n",
        "              frame = cv2.resize(frame, (self.height, self.width))\n",
        "            except:\n",
        "              print(\"break here\")\n",
        "              break\n",
        "        \n",
        "            if color:\n",
        "                framearray.append(frame)\n",
        "            else:\n",
        "                framearray.append(cv2.cvtColor(frame, cv2.COLOR_BGR2GRAY))\n",
        "\n",
        "        cap.release()\n",
        "        \n",
        "        return np.array(framearray)"
      ],
      "metadata": {
        "id": "mtnOa9S3QxQB"
      },
      "execution_count": null,
      "outputs": []
    },
    {
      "cell_type": "code",
      "source": [
        "import argparse\n",
        "import os\n",
        "\n",
        "import matplotlib\n",
        "matplotlib.use('AGG')\n",
        "\n",
        "import matplotlib.pyplot as plt\n",
        "import numpy as np\n",
        "\n",
        "from keras.datasets import cifar10\n",
        "from keras.layers import (Activation, Conv3D, Dense, Dropout, Flatten,\n",
        "                          MaxPool3D, Input, ZeroPadding3D)\n",
        "import keras\n",
        "from keras.layers import ELU, PReLU, LeakyReLU, Input\n",
        "from keras.losses import categorical_crossentropy\n",
        "from keras.models import Sequential\n",
        "from keras.optimizers import Adam\n",
        "from keras.utils import np_utils\n",
        "from keras.utils.vis_utils import plot_model\n",
        "from sklearn.model_selection import train_test_split\n",
        "\n",
        "from tqdm import tqdm\n",
        "\n",
        "from keras.callbacks import ModelCheckpoint\n",
        "\n",
        "##\n",
        "import tensorflow as tf\n",
        "from keras.backend import set_session\n",
        "\n",
        "\n",
        "def loaddata(video_dir, vid3d, nclass, color=False, skip=True):\n",
        "    \n",
        "    files = os.listdir(video_dir)  \n",
        "    X = []\n",
        "    labels = [0,0,0,0,0,0,0,0,0,0,1,1,1,1,1,1,1,1,1,1]\n",
        "\n",
        "    pbar = tqdm(total=len(files))\n",
        "\n",
        "    for filename in files:\n",
        "    \n",
        "        pbar.update(1)\n",
        "        \n",
        "        name = os.path.join(video_dir, filename)\n",
        "\n",
        "        print(filename) #to cross check data with labels\n",
        "            \n",
        "        X.append(vid3d.video3d(name, color=color, skip=skip))\n",
        "\n",
        "    pbar.close()\n",
        "\n",
        "    if color:\n",
        "        #return np.array(X).transpose((0, 2, 3, 4, 1)), labels\n",
        "        return np.array(X), labels\n",
        "    else:\n",
        "        #return np.array(X).transpose((0, 2, 3, 1)), labels\n",
        "        return np.array(X), labels"
      ],
      "metadata": {
        "id": "Va8WnKf2Z-AE"
      },
      "execution_count": null,
      "outputs": []
    },
    {
      "cell_type": "code",
      "source": [
        "depth = 16\n",
        "img_rows, img_cols, frames = 112, 112, depth\n",
        "channel = 3 \n",
        "batch = 16\n",
        "epoch = 200\n",
        "videos = '/content/drive/MyDrive/BDD/20/'\n",
        "color = True\n",
        "skip = False\n",
        "nclass = 2\n",
        "\n",
        "vid3d = Videoto3D(img_rows, img_cols, frames)\n",
        "nb_classes = 2\n",
        "\n",
        "x, y = loaddata(videos, vid3d, nclass, color, skip)\n",
        "\n",
        "X = x.reshape((x.shape[0], img_rows, img_cols, frames, channel))\n",
        "Y = np_utils.to_categorical(y,num_classes=nb_classes)\n",
        "\n",
        "X = X.astype('float32')\n",
        "    \n",
        "print('\\nX_shape:{}\\nY_shape:{}'.format(X.shape, Y.shape))"
      ],
      "metadata": {
        "colab": {
          "base_uri": "https://localhost:8080/"
        },
        "id": "s8PgpEHoizJ3",
        "outputId": "65241e2d-0ba1-4ba4-9fe4-7acaa1539792"
      },
      "execution_count": null,
      "outputs": [
        {
          "output_type": "stream",
          "name": "stderr",
          "text": [
            "\r  0%|          | 0/20 [00:00<?, ?it/s]"
          ]
        },
        {
          "output_type": "stream",
          "name": "stdout",
          "text": [
            "part24864-25063.avi\n"
          ]
        },
        {
          "output_type": "stream",
          "name": "stderr",
          "text": [
            "\r 10%|█         | 2/20 [00:01<00:14,  1.25it/s]"
          ]
        },
        {
          "output_type": "stream",
          "name": "stdout",
          "text": [
            "part20426-20625.avi\n"
          ]
        },
        {
          "output_type": "stream",
          "name": "stderr",
          "text": [
            "\r 15%|█▌        | 3/20 [00:02<00:15,  1.13it/s]"
          ]
        },
        {
          "output_type": "stream",
          "name": "stdout",
          "text": [
            "part7001-7200.avi\n"
          ]
        },
        {
          "output_type": "stream",
          "name": "stderr",
          "text": [
            "\r 20%|██        | 4/20 [00:03<00:14,  1.07it/s]"
          ]
        },
        {
          "output_type": "stream",
          "name": "stdout",
          "text": [
            "part37524-37723.avi\n"
          ]
        },
        {
          "output_type": "stream",
          "name": "stderr",
          "text": [
            "\r 25%|██▌       | 5/20 [00:04<00:14,  1.00it/s]"
          ]
        },
        {
          "output_type": "stream",
          "name": "stdout",
          "text": [
            "part24664-24863.avi\n"
          ]
        },
        {
          "output_type": "stream",
          "name": "stderr",
          "text": [
            "\r 30%|███       | 6/20 [00:05<00:14,  1.02s/it]"
          ]
        },
        {
          "output_type": "stream",
          "name": "stdout",
          "text": [
            "part8066-8265.avi\n"
          ]
        },
        {
          "output_type": "stream",
          "name": "stderr",
          "text": [
            "\r 35%|███▌      | 7/20 [00:07<00:16,  1.27s/it]"
          ]
        },
        {
          "output_type": "stream",
          "name": "stdout",
          "text": [
            "part1748-1947.avi\n"
          ]
        },
        {
          "output_type": "stream",
          "name": "stderr",
          "text": [
            "\r 40%|████      | 8/20 [00:09<00:16,  1.36s/it]"
          ]
        },
        {
          "output_type": "stream",
          "name": "stdout",
          "text": [
            "part6781-6980.avi\n"
          ]
        },
        {
          "output_type": "stream",
          "name": "stderr",
          "text": [
            "\r 45%|████▌     | 9/20 [00:10<00:16,  1.46s/it]"
          ]
        },
        {
          "output_type": "stream",
          "name": "stdout",
          "text": [
            "part7112-7311.avi\n"
          ]
        },
        {
          "output_type": "stream",
          "name": "stderr",
          "text": [
            "\r 50%|█████     | 10/20 [00:13<00:17,  1.78s/it]"
          ]
        },
        {
          "output_type": "stream",
          "name": "stdout",
          "text": [
            "part7670-7869.avi\n"
          ]
        },
        {
          "output_type": "stream",
          "name": "stderr",
          "text": [
            "\r 55%|█████▌    | 11/20 [00:14<00:15,  1.68s/it]"
          ]
        },
        {
          "output_type": "stream",
          "name": "stdout",
          "text": [
            "part2227-2426.avi\n"
          ]
        },
        {
          "output_type": "stream",
          "name": "stderr",
          "text": [
            "\r 60%|██████    | 12/20 [00:15<00:11,  1.48s/it]"
          ]
        },
        {
          "output_type": "stream",
          "name": "stdout",
          "text": [
            "part3982-4181.avi\n"
          ]
        },
        {
          "output_type": "stream",
          "name": "stderr",
          "text": [
            "\r 65%|██████▌   | 13/20 [00:16<00:09,  1.30s/it]"
          ]
        },
        {
          "output_type": "stream",
          "name": "stdout",
          "text": [
            "part3977-4176.avi\n"
          ]
        },
        {
          "output_type": "stream",
          "name": "stderr",
          "text": [
            "\r 70%|███████   | 14/20 [00:17<00:07,  1.17s/it]"
          ]
        },
        {
          "output_type": "stream",
          "name": "stdout",
          "text": [
            "part5561-5760.avi\n"
          ]
        },
        {
          "output_type": "stream",
          "name": "stderr",
          "text": [
            "\r 75%|███████▌  | 15/20 [00:18<00:05,  1.18s/it]"
          ]
        },
        {
          "output_type": "stream",
          "name": "stdout",
          "text": [
            "part2311-2510.avi\n"
          ]
        },
        {
          "output_type": "stream",
          "name": "stderr",
          "text": [
            "\r 80%|████████  | 16/20 [00:19<00:04,  1.11s/it]"
          ]
        },
        {
          "output_type": "stream",
          "name": "stdout",
          "text": [
            "part6492-6691.avi\n"
          ]
        },
        {
          "output_type": "stream",
          "name": "stderr",
          "text": [
            "\r 85%|████████▌ | 17/20 [00:21<00:04,  1.36s/it]"
          ]
        },
        {
          "output_type": "stream",
          "name": "stdout",
          "text": [
            "part1911-2110.avi\n"
          ]
        },
        {
          "output_type": "stream",
          "name": "stderr",
          "text": [
            "\r 90%|█████████ | 18/20 [00:22<00:02,  1.22s/it]"
          ]
        },
        {
          "output_type": "stream",
          "name": "stdout",
          "text": [
            "part2111-2310.avi\n"
          ]
        },
        {
          "output_type": "stream",
          "name": "stderr",
          "text": [
            "\r 95%|█████████▌| 19/20 [00:23<00:01,  1.11s/it]"
          ]
        },
        {
          "output_type": "stream",
          "name": "stdout",
          "text": [
            "part1790-1989.avi\n"
          ]
        },
        {
          "output_type": "stream",
          "name": "stderr",
          "text": [
            "\r100%|██████████| 20/20 [00:24<00:00,  1.05s/it]"
          ]
        },
        {
          "output_type": "stream",
          "name": "stdout",
          "text": [
            "part931-1130.avi\n"
          ]
        },
        {
          "output_type": "stream",
          "name": "stderr",
          "text": [
            "\r100%|██████████| 20/20 [00:25<00:00,  1.27s/it]"
          ]
        },
        {
          "output_type": "stream",
          "name": "stdout",
          "text": [
            "\n",
            "X_shape:(20, 112, 112, 16, 3)\n",
            "Y_shape:(20, 2)\n"
          ]
        },
        {
          "output_type": "stream",
          "name": "stderr",
          "text": [
            "\n"
          ]
        }
      ]
    },
    {
      "cell_type": "code",
      "source": [
        "\n",
        "# Define C3D model\n",
        "model = Sequential()\n",
        "   \n",
        "model.add(Conv3D(64,kernel_size= (3, 3, 3), activation='relu',padding='same', name='conv1',input_shape=(X.shape[1:])))\n",
        "model.add(MaxPool3D(pool_size=(1, 2, 2), strides=(1, 2, 2),padding='same', name='pool1'))\n",
        "# 2nd layer group\n",
        "model.add(Conv3D(128, kernel_size= (3, 3, 3), activation='relu',padding='same', name='conv2'))\n",
        "model.add(MaxPool3D(pool_size=(2, 2, 2), strides=(2, 2, 2),padding='same', name='pool2'))\n",
        "# 3rd layer group\n",
        "model.add(Conv3D(256,kernel_size= (3, 3, 3), activation='relu',padding='same', name='conv3a'))\n",
        "model.add(Conv3D(256, kernel_size= (3, 3, 3), activation='relu',padding='same', name='conv3b'))\n",
        "model.add(MaxPool3D(pool_size=(2, 2, 2), strides=(2, 2, 2),padding='same', name='pool3'))\n",
        "# 4th layer group\n",
        "model.add(Conv3D(512, kernel_size= (3, 3, 3), activation='relu',padding='same', name='conv4a'))\n",
        "model.add(Conv3D(512, kernel_size= (3, 3, 3), activation='relu',padding='same', name='conv4b'))\n",
        "model.add(MaxPool3D(pool_size=(2, 2, 2), strides=(2, 2, 2),padding='same', name='pool4'))\n",
        "# 5th layer group\n",
        "model.add(Conv3D(512, kernel_size= (3, 3, 3), activation='relu',padding='same', name='conv5a'))\n",
        "model.add(Conv3D(512, kernel_size= (3, 3, 3), activation='relu',padding='same', name='conv5b'))\n",
        "model.add(ZeroPadding3D(padding=((0, 0), (0, 1), (0, 1)), name='zeropad5'))\n",
        "model.add(MaxPool3D(pool_size=(2, 2, 2), strides=(2, 2, 2),padding='same', name='pool5'))\n",
        "model.add(Flatten())\n",
        "# FC layers group\n",
        "model.add(Dense(4096, activation='relu', name='fc6'))\n",
        "model.add(Dropout(.5))\n",
        "model.add(Dense(4096, activation='relu', name='fc7'))\n",
        "model.add(Dropout(.5))\n",
        "model.add(Dense(nb_classes, activation='softmax', name='fc8'))\n",
        "\n",
        "optimizer = keras.optimizers.Adam(learning_rate=0.0001)\n",
        "model.compile(optimizer,loss=categorical_crossentropy,metrics=['accuracy'])\n",
        "model.summary()\n",
        "\n",
        "X_train, X_test, Y_train, Y_test = train_test_split(\n",
        "    X, Y, test_size=0.2, random_state=43)\n",
        "\n",
        "\n",
        "# Train model\n",
        "history = model.fit(X_train, Y_train, batch_size=batch,\n",
        "                    epochs=epoch, verbose=1, shuffle=True)\n",
        "    \n",
        "model.evaluate(X_test, Y_test, verbose=0)\n",
        "\n",
        "loss, acc = model.evaluate(X_test, Y_test, verbose=0)\n",
        "    \n",
        "print('Test loss:', loss)\n",
        "print('Test accuracy:', acc)\n",
        "\n",
        "# summarize history for accuracy\n",
        "%matplotlib inline\n",
        "plt.plot(history.history['accuracy'])\n",
        "#plt.plot(history.history['val_accuracy'])\n",
        "plt.title('Model Accuracy')\n",
        "plt.ylabel('accuracy')\n",
        "plt.xlabel('epoch')\n",
        "plt.legend(['train'], loc='upper left')\n",
        "plt.show()\n",
        "\n",
        "# summarize history for loss\n",
        "plt.plot(history.history['loss'])\n",
        "#plt.plot(history.history['val_loss'])\n",
        "plt.title('Model Loss')\n",
        "plt.ylabel('loss')\n",
        "plt.xlabel('epoch')\n",
        "plt.legend(['train'], loc='upper left')\n",
        "plt.show()"
      ],
      "metadata": {
        "id": "buf-VgG40aon",
        "colab": {
          "base_uri": "https://localhost:8080/",
          "height": 1000
        },
        "outputId": "affdc72c-1cee-4eed-cbe4-b40b145efd96"
      },
      "execution_count": null,
      "outputs": [
        {
          "output_type": "stream",
          "name": "stdout",
          "text": [
            "Model: \"sequential\"\n",
            "_________________________________________________________________\n",
            " Layer (type)                Output Shape              Param #   \n",
            "=================================================================\n",
            " conv1 (Conv3D)              (None, 112, 112, 16, 64)  5248      \n",
            "                                                                 \n",
            " pool1 (MaxPooling3D)        (None, 112, 56, 8, 64)    0         \n",
            "                                                                 \n",
            " conv2 (Conv3D)              (None, 112, 56, 8, 128)   221312    \n",
            "                                                                 \n",
            " pool2 (MaxPooling3D)        (None, 56, 28, 4, 128)    0         \n",
            "                                                                 \n",
            " conv3a (Conv3D)             (None, 56, 28, 4, 256)    884992    \n",
            "                                                                 \n",
            " conv3b (Conv3D)             (None, 56, 28, 4, 256)    1769728   \n",
            "                                                                 \n",
            " pool3 (MaxPooling3D)        (None, 28, 14, 2, 256)    0         \n",
            "                                                                 \n",
            " conv4a (Conv3D)             (None, 28, 14, 2, 512)    3539456   \n",
            "                                                                 \n",
            " conv4b (Conv3D)             (None, 28, 14, 2, 512)    7078400   \n",
            "                                                                 \n",
            " pool4 (MaxPooling3D)        (None, 14, 7, 1, 512)     0         \n",
            "                                                                 \n",
            " conv5a (Conv3D)             (None, 14, 7, 1, 512)     7078400   \n",
            "                                                                 \n",
            " conv5b (Conv3D)             (None, 14, 7, 1, 512)     7078400   \n",
            "                                                                 \n",
            " zeropad5 (ZeroPadding3D)    (None, 14, 8, 2, 512)     0         \n",
            "                                                                 \n",
            " pool5 (MaxPooling3D)        (None, 7, 4, 1, 512)      0         \n",
            "                                                                 \n",
            " flatten (Flatten)           (None, 14336)             0         \n",
            "                                                                 \n",
            " fc6 (Dense)                 (None, 4096)              58724352  \n",
            "                                                                 \n",
            " dropout (Dropout)           (None, 4096)              0         \n",
            "                                                                 \n",
            " fc7 (Dense)                 (None, 4096)              16781312  \n",
            "                                                                 \n",
            " dropout_1 (Dropout)         (None, 4096)              0         \n",
            "                                                                 \n",
            " fc8 (Dense)                 (None, 2)                 8194      \n",
            "                                                                 \n",
            "=================================================================\n",
            "Total params: 103,169,794\n",
            "Trainable params: 103,169,794\n",
            "Non-trainable params: 0\n",
            "_________________________________________________________________\n",
            "Epoch 1/200\n",
            "1/1 [==============================] - 16s 16s/step - loss: 0.6850 - accuracy: 0.6875\n",
            "Epoch 2/200\n",
            "1/1 [==============================] - 1s 1s/step - loss: 5.2451 - accuracy: 0.5000\n",
            "Epoch 3/200\n",
            "1/1 [==============================] - 1s 1s/step - loss: 1.4444 - accuracy: 0.5625\n",
            "Epoch 4/200\n",
            "1/1 [==============================] - 1s 1s/step - loss: 0.6824 - accuracy: 0.5000\n",
            "Epoch 5/200\n",
            "1/1 [==============================] - 1s 1s/step - loss: 0.7194 - accuracy: 0.5625\n",
            "Epoch 6/200\n",
            "1/1 [==============================] - 1s 1s/step - loss: 0.6761 - accuracy: 0.5625\n",
            "Epoch 7/200\n",
            "1/1 [==============================] - 1s 1s/step - loss: 0.7794 - accuracy: 0.4375\n",
            "Epoch 8/200\n",
            "1/1 [==============================] - 1s 1s/step - loss: 0.5577 - accuracy: 0.7500\n",
            "Epoch 9/200\n",
            "1/1 [==============================] - 1s 1s/step - loss: 0.8133 - accuracy: 0.5000\n",
            "Epoch 10/200\n",
            "1/1 [==============================] - 1s 1s/step - loss: 0.8101 - accuracy: 0.1875\n",
            "Epoch 11/200\n",
            "1/1 [==============================] - 1s 1s/step - loss: 0.6814 - accuracy: 0.5625\n",
            "Epoch 12/200\n",
            "1/1 [==============================] - 1s 1s/step - loss: 0.7275 - accuracy: 0.3750\n",
            "Epoch 13/200\n",
            "1/1 [==============================] - 1s 1s/step - loss: 0.6840 - accuracy: 0.6250\n",
            "Epoch 14/200\n",
            "1/1 [==============================] - 1s 1s/step - loss: 0.6812 - accuracy: 0.4375\n",
            "Epoch 15/200\n",
            "1/1 [==============================] - 1s 1s/step - loss: 0.6491 - accuracy: 0.6875\n",
            "Epoch 16/200\n",
            "1/1 [==============================] - 1s 1s/step - loss: 0.6417 - accuracy: 0.5625\n",
            "Epoch 17/200\n",
            "1/1 [==============================] - 1s 1s/step - loss: 0.5983 - accuracy: 0.6250\n",
            "Epoch 18/200\n",
            "1/1 [==============================] - 1s 1s/step - loss: 0.6822 - accuracy: 0.3750\n",
            "Epoch 19/200\n",
            "1/1 [==============================] - 1s 1s/step - loss: 0.6903 - accuracy: 0.5625\n",
            "Epoch 20/200\n",
            "1/1 [==============================] - 1s 1s/step - loss: 0.6261 - accuracy: 0.7500\n",
            "Epoch 21/200\n",
            "1/1 [==============================] - 1s 1s/step - loss: 0.7121 - accuracy: 0.5000\n",
            "Epoch 22/200\n",
            "1/1 [==============================] - 1s 1s/step - loss: 0.6517 - accuracy: 0.5625\n",
            "Epoch 23/200\n",
            "1/1 [==============================] - 1s 1s/step - loss: 0.6673 - accuracy: 0.6250\n",
            "Epoch 24/200\n",
            "1/1 [==============================] - 1s 1s/step - loss: 0.6494 - accuracy: 0.6250\n",
            "Epoch 25/200\n",
            "1/1 [==============================] - 1s 1s/step - loss: 0.6799 - accuracy: 0.5000\n",
            "Epoch 26/200\n",
            "1/1 [==============================] - 1s 1s/step - loss: 0.6074 - accuracy: 0.7500\n",
            "Epoch 27/200\n",
            "1/1 [==============================] - 1s 1s/step - loss: 0.5392 - accuracy: 0.8750\n",
            "Epoch 28/200\n",
            "1/1 [==============================] - 1s 1s/step - loss: 0.4881 - accuracy: 0.8125\n",
            "Epoch 29/200\n",
            "1/1 [==============================] - 1s 1s/step - loss: 0.3735 - accuracy: 0.9375\n",
            "Epoch 30/200\n",
            "1/1 [==============================] - 1s 1s/step - loss: 0.4993 - accuracy: 0.6875\n",
            "Epoch 31/200\n",
            "1/1 [==============================] - 1s 1s/step - loss: 0.8527 - accuracy: 0.5000\n",
            "Epoch 32/200\n",
            "1/1 [==============================] - 1s 1s/step - loss: 0.4558 - accuracy: 0.8125\n",
            "Epoch 33/200\n",
            "1/1 [==============================] - 1s 1s/step - loss: 0.4554 - accuracy: 0.8750\n",
            "Epoch 34/200\n",
            "1/1 [==============================] - 1s 1s/step - loss: 0.2719 - accuracy: 0.9375\n",
            "Epoch 35/200\n",
            "1/1 [==============================] - 1s 1s/step - loss: 0.4199 - accuracy: 0.8750\n",
            "Epoch 36/200\n",
            "1/1 [==============================] - 1s 1s/step - loss: 0.2292 - accuracy: 0.9375\n",
            "Epoch 37/200\n",
            "1/1 [==============================] - 1s 1s/step - loss: 0.3448 - accuracy: 0.8750\n",
            "Epoch 38/200\n",
            "1/1 [==============================] - 1s 1s/step - loss: 0.1962 - accuracy: 0.9375\n",
            "Epoch 39/200\n",
            "1/1 [==============================] - 1s 1s/step - loss: 0.2616 - accuracy: 0.8750\n",
            "Epoch 40/200\n",
            "1/1 [==============================] - 1s 1s/step - loss: 0.2051 - accuracy: 0.9375\n",
            "Epoch 41/200\n",
            "1/1 [==============================] - 1s 1s/step - loss: 0.1762 - accuracy: 0.9375\n",
            "Epoch 42/200\n",
            "1/1 [==============================] - 1s 1s/step - loss: 0.2198 - accuracy: 0.9375\n",
            "Epoch 43/200\n",
            "1/1 [==============================] - 1s 1s/step - loss: 0.0496 - accuracy: 1.0000\n",
            "Epoch 44/200\n",
            "1/1 [==============================] - 1s 1s/step - loss: 0.1992 - accuracy: 0.9375\n",
            "Epoch 45/200\n",
            "1/1 [==============================] - 1s 1s/step - loss: 0.0429 - accuracy: 1.0000\n",
            "Epoch 46/200\n",
            "1/1 [==============================] - 1s 1s/step - loss: 0.1228 - accuracy: 0.9375\n",
            "Epoch 47/200\n",
            "1/1 [==============================] - 1s 1s/step - loss: 0.0464 - accuracy: 1.0000\n",
            "Epoch 48/200\n",
            "1/1 [==============================] - 1s 1s/step - loss: 0.0375 - accuracy: 1.0000\n",
            "Epoch 49/200\n",
            "1/1 [==============================] - 1s 1s/step - loss: 0.1261 - accuracy: 0.9375\n",
            "Epoch 50/200\n",
            "1/1 [==============================] - 1s 1s/step - loss: 0.0099 - accuracy: 1.0000\n",
            "Epoch 51/200\n",
            "1/1 [==============================] - 1s 1s/step - loss: 0.4148 - accuracy: 0.8125\n",
            "Epoch 52/200\n",
            "1/1 [==============================] - 1s 1s/step - loss: 0.0560 - accuracy: 0.9375\n",
            "Epoch 53/200\n",
            "1/1 [==============================] - 1s 1s/step - loss: 2.4843 - accuracy: 0.5625\n",
            "Epoch 54/200\n",
            "1/1 [==============================] - 1s 1s/step - loss: 0.3228 - accuracy: 0.8125\n",
            "Epoch 55/200\n",
            "1/1 [==============================] - 1s 1s/step - loss: 1.6723 - accuracy: 0.5625\n",
            "Epoch 56/200\n",
            "1/1 [==============================] - 1s 1s/step - loss: 1.2543 - accuracy: 0.5000\n",
            "Epoch 57/200\n",
            "1/1 [==============================] - 1s 1s/step - loss: 0.7074 - accuracy: 0.5000\n",
            "Epoch 58/200\n",
            "1/1 [==============================] - 1s 1s/step - loss: 0.6132 - accuracy: 0.5625\n",
            "Epoch 59/200\n",
            "1/1 [==============================] - 1s 1s/step - loss: 0.6454 - accuracy: 0.6875\n",
            "Epoch 60/200\n",
            "1/1 [==============================] - 1s 1s/step - loss: 0.6693 - accuracy: 0.5000\n",
            "Epoch 61/200\n",
            "1/1 [==============================] - 1s 1s/step - loss: 0.6877 - accuracy: 0.5000\n",
            "Epoch 62/200\n",
            "1/1 [==============================] - 1s 1s/step - loss: 0.6759 - accuracy: 0.5000\n",
            "Epoch 63/200\n",
            "1/1 [==============================] - 1s 1s/step - loss: 0.6497 - accuracy: 0.5000\n",
            "Epoch 64/200\n",
            "1/1 [==============================] - 1s 1s/step - loss: 0.6208 - accuracy: 0.5000\n",
            "Epoch 65/200\n",
            "1/1 [==============================] - 1s 1s/step - loss: 0.5933 - accuracy: 0.5000\n",
            "Epoch 66/200\n",
            "1/1 [==============================] - 1s 1s/step - loss: 0.5669 - accuracy: 0.5000\n",
            "Epoch 67/200\n",
            "1/1 [==============================] - 1s 1s/step - loss: 0.5387 - accuracy: 0.5000\n",
            "Epoch 68/200\n",
            "1/1 [==============================] - 1s 1s/step - loss: 0.4994 - accuracy: 0.5000\n",
            "Epoch 69/200\n",
            "1/1 [==============================] - 1s 1s/step - loss: 0.4658 - accuracy: 0.5000\n",
            "Epoch 70/200\n",
            "1/1 [==============================] - 1s 1s/step - loss: 0.4437 - accuracy: 0.5000\n",
            "Epoch 71/200\n",
            "1/1 [==============================] - 1s 1s/step - loss: 0.4146 - accuracy: 0.5000\n",
            "Epoch 72/200\n",
            "1/1 [==============================] - 1s 1s/step - loss: 0.3931 - accuracy: 0.7500\n",
            "Epoch 73/200\n",
            "1/1 [==============================] - 1s 1s/step - loss: 0.3625 - accuracy: 0.9375\n",
            "Epoch 74/200\n",
            "1/1 [==============================] - 1s 1s/step - loss: 0.3077 - accuracy: 0.9375\n",
            "Epoch 75/200\n",
            "1/1 [==============================] - 1s 1s/step - loss: 0.2219 - accuracy: 0.9375\n",
            "Epoch 76/200\n",
            "1/1 [==============================] - 1s 1s/step - loss: 0.1386 - accuracy: 0.9375\n",
            "Epoch 77/200\n",
            "1/1 [==============================] - 1s 1s/step - loss: 0.0810 - accuracy: 0.9375\n",
            "Epoch 78/200\n",
            "1/1 [==============================] - 1s 1s/step - loss: 0.1959 - accuracy: 0.9375\n",
            "Epoch 79/200\n",
            "1/1 [==============================] - 1s 1s/step - loss: 0.0065 - accuracy: 1.0000\n",
            "Epoch 80/200\n",
            "1/1 [==============================] - 1s 1s/step - loss: 0.5520 - accuracy: 0.8125\n",
            "Epoch 81/200\n",
            "1/1 [==============================] - 1s 1s/step - loss: 2.5678 - accuracy: 0.6875\n",
            "Epoch 82/200\n",
            "1/1 [==============================] - 1s 1s/step - loss: 2.5931 - accuracy: 0.5000\n",
            "Epoch 83/200\n",
            "1/1 [==============================] - 1s 1s/step - loss: 1.1955 - accuracy: 0.5625\n",
            "Epoch 84/200\n",
            "1/1 [==============================] - 1s 1s/step - loss: 0.4813 - accuracy: 0.6875\n",
            "Epoch 85/200\n",
            "1/1 [==============================] - 1s 1s/step - loss: 0.4259 - accuracy: 0.8125\n",
            "Epoch 86/200\n",
            "1/1 [==============================] - 1s 1s/step - loss: 0.4147 - accuracy: 0.9375\n",
            "Epoch 87/200\n",
            "1/1 [==============================] - 1s 1s/step - loss: 0.3796 - accuracy: 1.0000\n",
            "Epoch 88/200\n",
            "1/1 [==============================] - 1s 1s/step - loss: 0.3507 - accuracy: 0.9375\n",
            "Epoch 89/200\n",
            "1/1 [==============================] - 1s 1s/step - loss: 0.3909 - accuracy: 0.8125\n",
            "Epoch 90/200\n",
            "1/1 [==============================] - 1s 1s/step - loss: 0.4180 - accuracy: 0.6250\n",
            "Epoch 91/200\n",
            "1/1 [==============================] - 1s 1s/step - loss: 0.3914 - accuracy: 0.5625\n",
            "Epoch 92/200\n",
            "1/1 [==============================] - 1s 1s/step - loss: 0.3656 - accuracy: 0.6875\n",
            "Epoch 93/200\n",
            "1/1 [==============================] - 1s 1s/step - loss: 0.3567 - accuracy: 0.9375\n",
            "Epoch 94/200\n",
            "1/1 [==============================] - 1s 1s/step - loss: 0.3532 - accuracy: 0.8750\n",
            "Epoch 95/200\n",
            "1/1 [==============================] - 1s 1s/step - loss: 0.3526 - accuracy: 0.9375\n",
            "Epoch 96/200\n",
            "1/1 [==============================] - 1s 1s/step - loss: 0.3548 - accuracy: 0.9375\n",
            "Epoch 97/200\n",
            "1/1 [==============================] - 1s 1s/step - loss: 0.3535 - accuracy: 1.0000\n",
            "Epoch 98/200\n",
            "1/1 [==============================] - 1s 1s/step - loss: 0.3419 - accuracy: 1.0000\n",
            "Epoch 99/200\n",
            "1/1 [==============================] - 1s 1s/step - loss: 0.3349 - accuracy: 1.0000\n",
            "Epoch 100/200\n",
            "1/1 [==============================] - 1s 1s/step - loss: 0.3175 - accuracy: 1.0000\n",
            "Epoch 101/200\n",
            "1/1 [==============================] - 1s 1s/step - loss: 0.3070 - accuracy: 1.0000\n",
            "Epoch 102/200\n",
            "1/1 [==============================] - 1s 1s/step - loss: 0.2859 - accuracy: 1.0000\n",
            "Epoch 103/200\n",
            "1/1 [==============================] - 1s 1s/step - loss: 0.2561 - accuracy: 1.0000\n",
            "Epoch 104/200\n",
            "1/1 [==============================] - 1s 1s/step - loss: 0.2112 - accuracy: 1.0000\n",
            "Epoch 105/200\n",
            "1/1 [==============================] - 1s 1s/step - loss: 0.1427 - accuracy: 1.0000\n",
            "Epoch 106/200\n",
            "1/1 [==============================] - 1s 1s/step - loss: 0.0680 - accuracy: 1.0000\n",
            "Epoch 107/200\n",
            "1/1 [==============================] - 1s 1s/step - loss: 0.0182 - accuracy: 1.0000\n",
            "Epoch 108/200\n",
            "1/1 [==============================] - 1s 1s/step - loss: 0.0037 - accuracy: 1.0000\n",
            "Epoch 109/200\n",
            "1/1 [==============================] - 1s 1s/step - loss: 0.0240 - accuracy: 1.0000\n",
            "Epoch 110/200\n",
            "1/1 [==============================] - 1s 1s/step - loss: 5.3472e-05 - accuracy: 1.0000\n",
            "Epoch 111/200\n",
            "1/1 [==============================] - 1s 1s/step - loss: 1.3693e-05 - accuracy: 1.0000\n",
            "Epoch 112/200\n",
            "1/1 [==============================] - 1s 1s/step - loss: 9.8265e-06 - accuracy: 1.0000\n",
            "Epoch 113/200\n",
            "1/1 [==============================] - 1s 1s/step - loss: 4.4963e-05 - accuracy: 1.0000\n",
            "Epoch 114/200\n",
            "1/1 [==============================] - 1s 1s/step - loss: 0.0047 - accuracy: 1.0000\n",
            "Epoch 115/200\n",
            "1/1 [==============================] - 1s 1s/step - loss: 0.0036 - accuracy: 1.0000\n",
            "Epoch 116/200\n",
            "1/1 [==============================] - 1s 1s/step - loss: 1.8929e-05 - accuracy: 1.0000\n",
            "Epoch 117/200\n",
            "1/1 [==============================] - 1s 1s/step - loss: 4.2468e-07 - accuracy: 1.0000\n",
            "Epoch 118/200\n",
            "1/1 [==============================] - 1s 1s/step - loss: 0.0000e+00 - accuracy: 1.0000\n",
            "Epoch 119/200\n",
            "1/1 [==============================] - 1s 1s/step - loss: 0.0000e+00 - accuracy: 1.0000\n",
            "Epoch 120/200\n",
            "1/1 [==============================] - 1s 1s/step - loss: 7.4506e-09 - accuracy: 1.0000\n",
            "Epoch 121/200\n",
            "1/1 [==============================] - 1s 1s/step - loss: 7.4506e-09 - accuracy: 1.0000\n",
            "Epoch 122/200\n",
            "1/1 [==============================] - 1s 1s/step - loss: 0.0000e+00 - accuracy: 1.0000\n",
            "Epoch 123/200\n",
            "1/1 [==============================] - 1s 1s/step - loss: 1.4901e-08 - accuracy: 1.0000\n",
            "Epoch 124/200\n",
            "1/1 [==============================] - 1s 1s/step - loss: 0.0000e+00 - accuracy: 1.0000\n",
            "Epoch 125/200\n",
            "1/1 [==============================] - 1s 1s/step - loss: 5.2154e-08 - accuracy: 1.0000\n",
            "Epoch 126/200\n",
            "1/1 [==============================] - 1s 1s/step - loss: 2.6077e-07 - accuracy: 1.0000\n",
            "Epoch 127/200\n",
            "1/1 [==============================] - 1s 1s/step - loss: 9.9092e-07 - accuracy: 1.0000\n",
            "Epoch 128/200\n",
            "1/1 [==============================] - 1s 1s/step - loss: 7.4506e-08 - accuracy: 1.0000\n",
            "Epoch 129/200\n",
            "1/1 [==============================] - 1s 1s/step - loss: 4.2468e-07 - accuracy: 1.0000\n",
            "Epoch 130/200\n",
            "1/1 [==============================] - 1s 1s/step - loss: 3.7998e-07 - accuracy: 1.0000\n",
            "Epoch 131/200\n",
            "1/1 [==============================] - 1s 1s/step - loss: 4.7684e-07 - accuracy: 1.0000\n",
            "Epoch 132/200\n",
            "1/1 [==============================] - 1s 1s/step - loss: 1.5050e-06 - accuracy: 1.0000\n",
            "Epoch 133/200\n",
            "1/1 [==============================] - 1s 1s/step - loss: 7.3761e-07 - accuracy: 1.0000\n",
            "Epoch 134/200\n",
            "1/1 [==============================] - 1s 1s/step - loss: 2.1707e-05 - accuracy: 1.0000\n",
            "Epoch 135/200\n",
            "1/1 [==============================] - 1s 1s/step - loss: 7.3533e-06 - accuracy: 1.0000\n",
            "Epoch 136/200\n",
            "1/1 [==============================] - 1s 1s/step - loss: 2.8610e-06 - accuracy: 1.0000\n",
            "Epoch 137/200\n",
            "1/1 [==============================] - 1s 1s/step - loss: 2.5036e-05 - accuracy: 1.0000\n",
            "Epoch 138/200\n",
            "1/1 [==============================] - 1s 1s/step - loss: 1.5922e-04 - accuracy: 1.0000\n",
            "Epoch 139/200\n",
            "1/1 [==============================] - 1s 1s/step - loss: 0.0021 - accuracy: 1.0000\n",
            "Epoch 140/200\n",
            "1/1 [==============================] - 1s 1s/step - loss: 4.9919e-07 - accuracy: 1.0000\n",
            "Epoch 141/200\n",
            "1/1 [==============================] - 1s 1s/step - loss: 0.0000e+00 - accuracy: 1.0000\n",
            "Epoch 142/200\n",
            "1/1 [==============================] - 1s 1s/step - loss: 0.0000e+00 - accuracy: 1.0000\n",
            "Epoch 143/200\n",
            "1/1 [==============================] - 1s 1s/step - loss: 0.0000e+00 - accuracy: 1.0000\n",
            "Epoch 144/200\n",
            "1/1 [==============================] - 1s 1s/step - loss: 0.0000e+00 - accuracy: 1.0000\n",
            "Epoch 145/200\n",
            "1/1 [==============================] - 1s 1s/step - loss: 0.0000e+00 - accuracy: 1.0000\n",
            "Epoch 146/200\n",
            "1/1 [==============================] - 1s 1s/step - loss: 0.0000e+00 - accuracy: 1.0000\n",
            "Epoch 147/200\n",
            "1/1 [==============================] - 1s 1s/step - loss: 0.0000e+00 - accuracy: 1.0000\n",
            "Epoch 148/200\n",
            "1/1 [==============================] - 1s 1s/step - loss: 0.0000e+00 - accuracy: 1.0000\n",
            "Epoch 149/200\n",
            "1/1 [==============================] - 1s 1s/step - loss: 0.0000e+00 - accuracy: 1.0000\n",
            "Epoch 150/200\n",
            "1/1 [==============================] - 1s 1s/step - loss: 0.0000e+00 - accuracy: 1.0000\n",
            "Epoch 151/200\n",
            "1/1 [==============================] - 1s 1s/step - loss: 0.0000e+00 - accuracy: 1.0000\n",
            "Epoch 152/200\n",
            "1/1 [==============================] - 1s 1s/step - loss: 0.0000e+00 - accuracy: 1.0000\n",
            "Epoch 153/200\n",
            "1/1 [==============================] - 1s 1s/step - loss: 0.0000e+00 - accuracy: 1.0000\n",
            "Epoch 154/200\n",
            "1/1 [==============================] - 1s 1s/step - loss: 0.0000e+00 - accuracy: 1.0000\n",
            "Epoch 155/200\n",
            "1/1 [==============================] - 1s 1s/step - loss: 0.0000e+00 - accuracy: 1.0000\n",
            "Epoch 156/200\n",
            "1/1 [==============================] - 1s 1s/step - loss: 0.0000e+00 - accuracy: 1.0000\n",
            "Epoch 157/200\n",
            "1/1 [==============================] - 1s 1s/step - loss: 0.0000e+00 - accuracy: 1.0000\n",
            "Epoch 158/200\n",
            "1/1 [==============================] - 1s 1s/step - loss: 0.0000e+00 - accuracy: 1.0000\n",
            "Epoch 159/200\n",
            "1/1 [==============================] - 1s 1s/step - loss: 0.0000e+00 - accuracy: 1.0000\n",
            "Epoch 160/200\n",
            "1/1 [==============================] - 1s 1s/step - loss: 0.0000e+00 - accuracy: 1.0000\n",
            "Epoch 161/200\n",
            "1/1 [==============================] - 1s 1s/step - loss: 0.0000e+00 - accuracy: 1.0000\n",
            "Epoch 162/200\n",
            "1/1 [==============================] - 1s 1s/step - loss: 0.0000e+00 - accuracy: 1.0000\n",
            "Epoch 163/200\n",
            "1/1 [==============================] - 1s 1s/step - loss: 0.0000e+00 - accuracy: 1.0000\n",
            "Epoch 164/200\n",
            "1/1 [==============================] - 1s 1s/step - loss: 0.0000e+00 - accuracy: 1.0000\n",
            "Epoch 165/200\n",
            "1/1 [==============================] - 1s 1s/step - loss: 0.0000e+00 - accuracy: 1.0000\n",
            "Epoch 166/200\n",
            "1/1 [==============================] - 1s 1s/step - loss: 0.0000e+00 - accuracy: 1.0000\n",
            "Epoch 167/200\n",
            "1/1 [==============================] - 1s 1s/step - loss: 0.0000e+00 - accuracy: 1.0000\n",
            "Epoch 168/200\n",
            "1/1 [==============================] - 1s 1s/step - loss: 0.0000e+00 - accuracy: 1.0000\n",
            "Epoch 169/200\n",
            "1/1 [==============================] - 1s 1s/step - loss: 0.0000e+00 - accuracy: 1.0000\n",
            "Epoch 170/200\n",
            "1/1 [==============================] - 1s 1s/step - loss: 0.0000e+00 - accuracy: 1.0000\n",
            "Epoch 171/200\n",
            "1/1 [==============================] - 1s 1s/step - loss: 0.0000e+00 - accuracy: 1.0000\n",
            "Epoch 172/200\n",
            "1/1 [==============================] - 1s 1s/step - loss: 0.0000e+00 - accuracy: 1.0000\n",
            "Epoch 173/200\n",
            "1/1 [==============================] - 1s 1s/step - loss: 0.0000e+00 - accuracy: 1.0000\n",
            "Epoch 174/200\n",
            "1/1 [==============================] - 1s 1s/step - loss: 0.0000e+00 - accuracy: 1.0000\n",
            "Epoch 175/200\n",
            "1/1 [==============================] - 1s 1s/step - loss: 0.0000e+00 - accuracy: 1.0000\n",
            "Epoch 176/200\n",
            "1/1 [==============================] - 1s 1s/step - loss: 0.0000e+00 - accuracy: 1.0000\n",
            "Epoch 177/200\n",
            "1/1 [==============================] - 1s 1s/step - loss: 0.0000e+00 - accuracy: 1.0000\n",
            "Epoch 178/200\n",
            "1/1 [==============================] - 1s 1s/step - loss: 0.0000e+00 - accuracy: 1.0000\n",
            "Epoch 179/200\n",
            "1/1 [==============================] - 1s 1s/step - loss: 0.0000e+00 - accuracy: 1.0000\n",
            "Epoch 180/200\n",
            "1/1 [==============================] - 1s 1s/step - loss: 0.0000e+00 - accuracy: 1.0000\n",
            "Epoch 181/200\n",
            "1/1 [==============================] - 1s 1s/step - loss: 0.0000e+00 - accuracy: 1.0000\n",
            "Epoch 182/200\n",
            "1/1 [==============================] - 1s 1s/step - loss: 0.0000e+00 - accuracy: 1.0000\n",
            "Epoch 183/200\n",
            "1/1 [==============================] - 1s 1s/step - loss: 0.0000e+00 - accuracy: 1.0000\n",
            "Epoch 184/200\n",
            "1/1 [==============================] - 1s 1s/step - loss: 0.0000e+00 - accuracy: 1.0000\n",
            "Epoch 185/200\n",
            "1/1 [==============================] - 1s 1s/step - loss: 0.0000e+00 - accuracy: 1.0000\n",
            "Epoch 186/200\n",
            "1/1 [==============================] - 1s 1s/step - loss: 0.0000e+00 - accuracy: 1.0000\n",
            "Epoch 187/200\n",
            "1/1 [==============================] - 1s 1s/step - loss: 0.0000e+00 - accuracy: 1.0000\n",
            "Epoch 188/200\n",
            "1/1 [==============================] - 1s 1s/step - loss: 0.0000e+00 - accuracy: 1.0000\n",
            "Epoch 189/200\n",
            "1/1 [==============================] - 1s 1s/step - loss: 0.0000e+00 - accuracy: 1.0000\n",
            "Epoch 190/200\n",
            "1/1 [==============================] - 1s 1s/step - loss: 0.0000e+00 - accuracy: 1.0000\n",
            "Epoch 191/200\n",
            "1/1 [==============================] - 1s 1s/step - loss: 0.0000e+00 - accuracy: 1.0000\n",
            "Epoch 192/200\n",
            "1/1 [==============================] - 1s 1s/step - loss: 0.0000e+00 - accuracy: 1.0000\n",
            "Epoch 193/200\n",
            "1/1 [==============================] - 1s 1s/step - loss: 0.0000e+00 - accuracy: 1.0000\n",
            "Epoch 194/200\n",
            "1/1 [==============================] - 1s 1s/step - loss: 0.0000e+00 - accuracy: 1.0000\n",
            "Epoch 195/200\n",
            "1/1 [==============================] - 1s 1s/step - loss: 0.0000e+00 - accuracy: 1.0000\n",
            "Epoch 196/200\n",
            "1/1 [==============================] - 1s 1s/step - loss: 0.0000e+00 - accuracy: 1.0000\n",
            "Epoch 197/200\n",
            "1/1 [==============================] - 1s 1s/step - loss: 0.0000e+00 - accuracy: 1.0000\n",
            "Epoch 198/200\n",
            "1/1 [==============================] - 1s 1s/step - loss: 0.0000e+00 - accuracy: 1.0000\n",
            "Epoch 199/200\n",
            "1/1 [==============================] - 1s 1s/step - loss: 0.0000e+00 - accuracy: 1.0000\n",
            "Epoch 200/200\n",
            "1/1 [==============================] - 1s 1s/step - loss: 0.0000e+00 - accuracy: 1.0000\n",
            "Test loss: 18.665935516357422\n",
            "Test accuracy: 0.75\n"
          ]
        },
        {
          "output_type": "display_data",
          "data": {
            "text/plain": [
              "<Figure size 432x288 with 1 Axes>"
            ],
            "image/png": "[encoded data removed]"
          },
          "metadata": {
            "needs_background": "light"
          }
        },
        {
          "output_type": "display_data",
          "data": {
            "text/plain": [
              "<Figure size 432x288 with 1 Axes>"
            ],
            "image/png": "[encoded data removed]"
          },
          "metadata": {
            "needs_background": "light"
          }
        }
      ]
    }
  ]
}